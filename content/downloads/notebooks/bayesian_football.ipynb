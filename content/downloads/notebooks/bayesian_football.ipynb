{
 "metadata": {
  "name": "",
  "signature": "sha256:a6aedad80dceedcc6ec214ba9806e6f2f8053799b614bb8095afe9b27bf1c76f"
 },
 "nbformat": 3,
 "nbformat_minor": 0,
 "worksheets": [
  {
   "cells": [
    {
     "cell_type": "markdown",
     "metadata": {},
     "source": [
      "## sum to zero using last group, no intercept."
     ]
    },
    {
     "cell_type": "markdown",
     "metadata": {},
     "source": [
      "\n",
      "\n",
      "\n",
      "The paper is available [here](http://www.statistica.it/gianluca/Research/BaioBlangiardo.pdf). "
     ]
    },
    {
     "cell_type": "code",
     "collapsed": false,
     "input": [
      "%matplotlib inline"
     ],
     "language": "python",
     "metadata": {},
     "outputs": [],
     "prompt_number": 1
    },
    {
     "cell_type": "code",
     "collapsed": false,
     "input": [
      "import os\n",
      "import math\n",
      "\n",
      "import numpy as np\n",
      "import pandas as pd\n",
      "import seaborn as sns\n",
      "import matplotlib.pyplot as plt\n",
      "import pymc"
     ],
     "language": "python",
     "metadata": {},
     "outputs": [],
     "prompt_number": 2
    },
    {
     "cell_type": "markdown",
     "metadata": {},
     "source": [
      "I got the data from [wikipedia](http://en.wikipedia.org/wiki/1991%E2%80%9392_Serie_A).  We'll start by loading"
     ]
    },
    {
     "cell_type": "code",
     "collapsed": false,
     "input": [
      "data_dir = os.path.join(os.getcwd(), 'data/')\n",
      "data_file = data_dir + 'seria_a_1991.txt'\n",
      "df = pd.read_csv(data_file, \n",
      "                 sep='\\t', \n",
      "                 index_col=0)\n",
      "df.head()"
     ],
     "language": "python",
     "metadata": {},
     "outputs": [
      {
       "html": [
        "<div style=\"max-height:1000px;max-width:1500px;overflow:auto;\">\n",
        "<table border=\"1\" class=\"dataframe\">\n",
        "  <thead>\n",
        "    <tr style=\"text-align: right;\">\n",
        "      <th></th>\n",
        "      <th>Ascoli</th>\n",
        "      <th>Atalanta</th>\n",
        "      <th>Bari</th>\n",
        "      <th>Cagliari</th>\n",
        "      <th>Cremonese</th>\n",
        "      <th>Fiorentina</th>\n",
        "      <th>Foggia</th>\n",
        "      <th>Genoa</th>\n",
        "      <th>Inter</th>\n",
        "      <th>Juventus</th>\n",
        "      <th>Lazio</th>\n",
        "      <th>Milan</th>\n",
        "      <th>Napoli</th>\n",
        "      <th>Parma</th>\n",
        "      <th>Roma</th>\n",
        "      <th>Sampdoria</th>\n",
        "      <th>Torino</th>\n",
        "      <th>Verona</th>\n",
        "    </tr>\n",
        "  </thead>\n",
        "  <tbody>\n",
        "    <tr>\n",
        "      <th>Ascoli</th>\n",
        "      <td>    </td>\n",
        "      <td> 1-0</td>\n",
        "      <td> 2-2</td>\n",
        "      <td> 1-3</td>\n",
        "      <td> 1-0</td>\n",
        "      <td> 0-0</td>\n",
        "      <td> 2-1</td>\n",
        "      <td> 0-2</td>\n",
        "      <td> 1-2</td>\n",
        "      <td> 0-2</td>\n",
        "      <td> 1-4</td>\n",
        "      <td> 0-1</td>\n",
        "      <td> 1-4</td>\n",
        "      <td> 2-3</td>\n",
        "      <td> 1-1</td>\n",
        "      <td> 0-1</td>\n",
        "      <td> 0-4</td>\n",
        "      <td> 1-1</td>\n",
        "    </tr>\n",
        "    <tr>\n",
        "      <th>Atalanta</th>\n",
        "      <td> 1-1</td>\n",
        "      <td>    </td>\n",
        "      <td> 2-1</td>\n",
        "      <td> 0-1</td>\n",
        "      <td> 1-1</td>\n",
        "      <td> 1-0</td>\n",
        "      <td> 4-4</td>\n",
        "      <td> 1-0</td>\n",
        "      <td> 1-0</td>\n",
        "      <td> 0-0</td>\n",
        "      <td> 1-0</td>\n",
        "      <td> 0-2</td>\n",
        "      <td> 1-1</td>\n",
        "      <td> 0-1</td>\n",
        "      <td> 0-1</td>\n",
        "      <td> 0-0</td>\n",
        "      <td> 1-3</td>\n",
        "      <td> 0-0</td>\n",
        "    </tr>\n",
        "    <tr>\n",
        "      <th>Bari</th>\n",
        "      <td> 2-1</td>\n",
        "      <td> 0-0</td>\n",
        "      <td>    </td>\n",
        "      <td> 1-0</td>\n",
        "      <td> 0-0</td>\n",
        "      <td> 1-0</td>\n",
        "      <td> 1-3</td>\n",
        "      <td> 1-2</td>\n",
        "      <td> 0-2</td>\n",
        "      <td> 0-0</td>\n",
        "      <td> 1-2</td>\n",
        "      <td> 0-1</td>\n",
        "      <td> 1-3</td>\n",
        "      <td> 1-1</td>\n",
        "      <td> 2-1</td>\n",
        "      <td> 1-1</td>\n",
        "      <td> 1-1</td>\n",
        "      <td> 2-1</td>\n",
        "    </tr>\n",
        "    <tr>\n",
        "      <th>Cagliari</th>\n",
        "      <td> 2-0</td>\n",
        "      <td> 0-0</td>\n",
        "      <td> 0-0</td>\n",
        "      <td>    </td>\n",
        "      <td> 0-0</td>\n",
        "      <td> 4-0</td>\n",
        "      <td> 2-2</td>\n",
        "      <td> 1-1</td>\n",
        "      <td> 1-1</td>\n",
        "      <td> 1-1</td>\n",
        "      <td> 0-1</td>\n",
        "      <td> 1-4</td>\n",
        "      <td> 0-0</td>\n",
        "      <td> 0-0</td>\n",
        "      <td> 0-1</td>\n",
        "      <td> 3-2</td>\n",
        "      <td> 0-1</td>\n",
        "      <td> 4-0</td>\n",
        "    </tr>\n",
        "    <tr>\n",
        "      <th>Cremonese</th>\n",
        "      <td> 3-1</td>\n",
        "      <td> 1-2</td>\n",
        "      <td> 1-1</td>\n",
        "      <td> 0-1</td>\n",
        "      <td>    </td>\n",
        "      <td> 1-3</td>\n",
        "      <td> 0-2</td>\n",
        "      <td> 2-1</td>\n",
        "      <td> 0-1</td>\n",
        "      <td> 0-2</td>\n",
        "      <td> 2-0</td>\n",
        "      <td> 1-1</td>\n",
        "      <td> 0-0</td>\n",
        "      <td> 0-1</td>\n",
        "      <td> 1-2</td>\n",
        "      <td> 0-1</td>\n",
        "      <td> 0-2</td>\n",
        "      <td> 3-0</td>\n",
        "    </tr>\n",
        "  </tbody>\n",
        "</table>\n",
        "</div>"
       ],
       "metadata": {},
       "output_type": "pyout",
       "prompt_number": 3,
       "text": [
        "          Ascoli Atalanta Bari Cagliari Cremonese Fiorentina Foggia Genoa  \\\n",
        "Ascoli                1-0  2-2      1-3       1-0        0-0    2-1   0-2   \n",
        "Atalanta     1-1           2-1      0-1       1-1        1-0    4-4   1-0   \n",
        "Bari         2-1      0-0           1-0       0-0        1-0    1-3   1-2   \n",
        "Cagliari     2-0      0-0  0-0                0-0        4-0    2-2   1-1   \n",
        "Cremonese    3-1      1-2  1-1      0-1                  1-3    0-2   2-1   \n",
        "\n",
        "          Inter Juventus Lazio Milan Napoli Parma Roma Sampdoria Torino Verona  \n",
        "Ascoli      1-2      0-2   1-4   0-1    1-4   2-3  1-1       0-1    0-4    1-1  \n",
        "Atalanta    1-0      0-0   1-0   0-2    1-1   0-1  0-1       0-0    1-3    0-0  \n",
        "Bari        0-2      0-0   1-2   0-1    1-3   1-1  2-1       1-1    1-1    2-1  \n",
        "Cagliari    1-1      1-1   0-1   1-4    0-0   0-0  0-1       3-2    0-1    4-0  \n",
        "Cremonese   0-1      0-2   2-0   1-1    0-0   0-1  1-2       0-1    0-2    3-0  "
       ]
      }
     ],
     "prompt_number": 3
    },
    {
     "cell_type": "markdown",
     "metadata": {},
     "source": [
      "Clearly, we need do some munging here.  Let's turn this into a long dataframe, and split the score into two numeric columns."
     ]
    },
    {
     "cell_type": "code",
     "collapsed": false,
     "input": [
      "rows = []\n",
      "for i in df.index:\n",
      "    for c in df.columns:\n",
      "        if i == c: continue\n",
      "        score = df.ix[i, c]\n",
      "        score = [int(row) for row in score.split('-')]\n",
      "        rows.append([i, c, score[0], score[1]])\n",
      "df = pd.DataFrame(rows, columns = ['home', 'away', 'home_score', 'away_score'])\n",
      "df.head()"
     ],
     "language": "python",
     "metadata": {},
     "outputs": [
      {
       "html": [
        "<div style=\"max-height:1000px;max-width:1500px;overflow:auto;\">\n",
        "<table border=\"1\" class=\"dataframe\">\n",
        "  <thead>\n",
        "    <tr style=\"text-align: right;\">\n",
        "      <th></th>\n",
        "      <th>home</th>\n",
        "      <th>away</th>\n",
        "      <th>home_score</th>\n",
        "      <th>away_score</th>\n",
        "    </tr>\n",
        "  </thead>\n",
        "  <tbody>\n",
        "    <tr>\n",
        "      <th>0</th>\n",
        "      <td> Ascoli</td>\n",
        "      <td>   Atalanta</td>\n",
        "      <td> 1</td>\n",
        "      <td> 0</td>\n",
        "    </tr>\n",
        "    <tr>\n",
        "      <th>1</th>\n",
        "      <td> Ascoli</td>\n",
        "      <td>       Bari</td>\n",
        "      <td> 2</td>\n",
        "      <td> 2</td>\n",
        "    </tr>\n",
        "    <tr>\n",
        "      <th>2</th>\n",
        "      <td> Ascoli</td>\n",
        "      <td>   Cagliari</td>\n",
        "      <td> 1</td>\n",
        "      <td> 3</td>\n",
        "    </tr>\n",
        "    <tr>\n",
        "      <th>3</th>\n",
        "      <td> Ascoli</td>\n",
        "      <td>  Cremonese</td>\n",
        "      <td> 1</td>\n",
        "      <td> 0</td>\n",
        "    </tr>\n",
        "    <tr>\n",
        "      <th>4</th>\n",
        "      <td> Ascoli</td>\n",
        "      <td> Fiorentina</td>\n",
        "      <td> 0</td>\n",
        "      <td> 0</td>\n",
        "    </tr>\n",
        "  </tbody>\n",
        "</table>\n",
        "</div>"
       ],
       "metadata": {},
       "output_type": "pyout",
       "prompt_number": 4,
       "text": [
        "     home        away  home_score  away_score\n",
        "0  Ascoli    Atalanta           1           0\n",
        "1  Ascoli        Bari           2           2\n",
        "2  Ascoli    Cagliari           1           3\n",
        "3  Ascoli   Cremonese           1           0\n",
        "4  Ascoli  Fiorentina           0           0"
       ]
      }
     ],
     "prompt_number": 4
    },
    {
     "cell_type": "markdown",
     "metadata": {},
     "source": [
      "Much better, but still not done.  We need an easy way to refer to the teams.  Let's create a lookup table, which maps team name to a unique integer *i*."
     ]
    },
    {
     "cell_type": "code",
     "collapsed": false,
     "input": [
      "teams = df.home.unique()\n",
      "teams = pd.DataFrame(teams, columns=['team'])\n",
      "teams['i'] = teams.index\n",
      "teams.head()"
     ],
     "language": "python",
     "metadata": {},
     "outputs": [
      {
       "html": [
        "<div style=\"max-height:1000px;max-width:1500px;overflow:auto;\">\n",
        "<table border=\"1\" class=\"dataframe\">\n",
        "  <thead>\n",
        "    <tr style=\"text-align: right;\">\n",
        "      <th></th>\n",
        "      <th>team</th>\n",
        "      <th>i</th>\n",
        "    </tr>\n",
        "  </thead>\n",
        "  <tbody>\n",
        "    <tr>\n",
        "      <th>0</th>\n",
        "      <td>    Ascoli</td>\n",
        "      <td> 0</td>\n",
        "    </tr>\n",
        "    <tr>\n",
        "      <th>1</th>\n",
        "      <td>  Atalanta</td>\n",
        "      <td> 1</td>\n",
        "    </tr>\n",
        "    <tr>\n",
        "      <th>2</th>\n",
        "      <td>      Bari</td>\n",
        "      <td> 2</td>\n",
        "    </tr>\n",
        "    <tr>\n",
        "      <th>3</th>\n",
        "      <td>  Cagliari</td>\n",
        "      <td> 3</td>\n",
        "    </tr>\n",
        "    <tr>\n",
        "      <th>4</th>\n",
        "      <td> Cremonese</td>\n",
        "      <td> 4</td>\n",
        "    </tr>\n",
        "  </tbody>\n",
        "</table>\n",
        "</div>"
       ],
       "metadata": {},
       "output_type": "pyout",
       "prompt_number": 5,
       "text": [
        "        team  i\n",
        "0     Ascoli  0\n",
        "1   Atalanta  1\n",
        "2       Bari  2\n",
        "3   Cagliari  3\n",
        "4  Cremonese  4"
       ]
      }
     ],
     "prompt_number": 5
    },
    {
     "cell_type": "markdown",
     "metadata": {},
     "source": [
      "Now, we can merge this into our main dataframe to create the columns i_home and i_away."
     ]
    },
    {
     "cell_type": "code",
     "collapsed": false,
     "input": [
      "df = pd.merge(df, teams, left_on='home', right_on='team', how='left')\n",
      "df = df.rename(columns = {'i': 'i_home'}).drop('team', 1)\n",
      "df = pd.merge(df, teams, left_on='away', right_on='team', how='left')\n",
      "df = df.rename(columns = {'i': 'i_away'}).drop('team', 1)\n",
      "df.head()"
     ],
     "language": "python",
     "metadata": {},
     "outputs": [
      {
       "html": [
        "<div style=\"max-height:1000px;max-width:1500px;overflow:auto;\">\n",
        "<table border=\"1\" class=\"dataframe\">\n",
        "  <thead>\n",
        "    <tr style=\"text-align: right;\">\n",
        "      <th></th>\n",
        "      <th>home</th>\n",
        "      <th>away</th>\n",
        "      <th>home_score</th>\n",
        "      <th>away_score</th>\n",
        "      <th>i_home</th>\n",
        "      <th>i_away</th>\n",
        "    </tr>\n",
        "  </thead>\n",
        "  <tbody>\n",
        "    <tr>\n",
        "      <th>0</th>\n",
        "      <td>     Ascoli</td>\n",
        "      <td> Atalanta</td>\n",
        "      <td> 1</td>\n",
        "      <td> 0</td>\n",
        "      <td> 0</td>\n",
        "      <td> 1</td>\n",
        "    </tr>\n",
        "    <tr>\n",
        "      <th>1</th>\n",
        "      <td>       Bari</td>\n",
        "      <td> Atalanta</td>\n",
        "      <td> 0</td>\n",
        "      <td> 0</td>\n",
        "      <td> 2</td>\n",
        "      <td> 1</td>\n",
        "    </tr>\n",
        "    <tr>\n",
        "      <th>2</th>\n",
        "      <td>   Cagliari</td>\n",
        "      <td> Atalanta</td>\n",
        "      <td> 0</td>\n",
        "      <td> 0</td>\n",
        "      <td> 3</td>\n",
        "      <td> 1</td>\n",
        "    </tr>\n",
        "    <tr>\n",
        "      <th>3</th>\n",
        "      <td>  Cremonese</td>\n",
        "      <td> Atalanta</td>\n",
        "      <td> 1</td>\n",
        "      <td> 2</td>\n",
        "      <td> 4</td>\n",
        "      <td> 1</td>\n",
        "    </tr>\n",
        "    <tr>\n",
        "      <th>4</th>\n",
        "      <td> Fiorentina</td>\n",
        "      <td> Atalanta</td>\n",
        "      <td> 3</td>\n",
        "      <td> 0</td>\n",
        "      <td> 5</td>\n",
        "      <td> 1</td>\n",
        "    </tr>\n",
        "  </tbody>\n",
        "</table>\n",
        "</div>"
       ],
       "metadata": {},
       "output_type": "pyout",
       "prompt_number": 6,
       "text": [
        "         home      away  home_score  away_score  i_home  i_away\n",
        "0      Ascoli  Atalanta           1           0       0       1\n",
        "1        Bari  Atalanta           0           0       2       1\n",
        "2    Cagliari  Atalanta           0           0       3       1\n",
        "3   Cremonese  Atalanta           1           2       4       1\n",
        "4  Fiorentina  Atalanta           3           0       5       1"
       ]
      }
     ],
     "prompt_number": 6
    },
    {
     "cell_type": "code",
     "collapsed": false,
     "input": [
      "path = '/Users/weitzenfeld/PycharmProjects/passtheroc_source/content/downloads/notebooks/data/'\n",
      "df.to_csv(path + 'seria_a.csv', index=False)"
     ],
     "language": "python",
     "metadata": {},
     "outputs": [],
     "prompt_number": 22
    },
    {
     "cell_type": "markdown",
     "metadata": {},
     "source": [
      "Now, let's extract the data into arrays, so that pymc can work with it:"
     ]
    },
    {
     "cell_type": "code",
     "collapsed": false,
     "input": [
      "#observed_scores = [(row['home_score'], row['away_score']) for i,row in df.iterrows()]\n",
      "observed_home_goals = [row['home_score'] for i, row in df.iterrows()]\n",
      "observed_away_goals = [row['away_score'] for i, row in df.iterrows()]\n",
      "who_played_whom = [(row['i_home'], row['i_away']) for i,row in df.iterrows()]\n",
      "num_teams = len(df.i_home.unique())\n",
      "num_games = len(who_played_whom)"
     ],
     "language": "python",
     "metadata": {},
     "outputs": [],
     "prompt_number": 7
    },
    {
     "cell_type": "markdown",
     "metadata": {},
     "source": [
      "Now let's define the pymc model, mimicing the model used in the paper."
     ]
    },
    {
     "cell_type": "code",
     "collapsed": false,
     "input": [
      "#hyper parameters\n",
      "home = pymc.Normal('home', 0, .0001, value=0)\n",
      "mu_att = pymc.Normal('mu_att', 0, .0001, value=0)\n",
      "mu_def = pymc.Normal('mu_def', 0, .0001, value=0)\n",
      "#tau_att = pymc.Uniform('tau_att', lower=0, upper=100, value=.1)\n",
      "#tau_def = pymc.Uniform('tau_def', lower=0, upper=100, value=.1)\n",
      "tau_att = pymc.Gamma('tau_att', .1, .1, value=10)\n",
      "tau_def = pymc.Gamma('tau_def', .1, .1, value=10)\n",
      "#intercept = pymc.Normal('intercept', 0, .0001, value=0)\n",
      "\n",
      "#team-specific parameters\n",
      "atts_star = pymc.Normal(\"atts_star\", mu=mu_att, tau=tau_att, size=num_teams - 1, value=np.zeros(num_teams - 1))\n",
      "defs_star = pymc.Normal(\"defs_star\", mu=mu_def, tau=tau_def, size=num_teams - 1, value=np.zeros(num_teams - 1)) # value=np.zeros(num_teams))\n",
      "\n",
      "# trick to code the sum to zero contraint\n",
      "@pymc.deterministic\n",
      "def atts(atts_star=atts_star):\n",
      "    atts = atts_star.copy()\n",
      "    atts.resize(num_teams)\n",
      "    atts[num_teams - 1] = -np.sum(atts_star)\n",
      "    return atts\n",
      "\n",
      "@pymc.deterministic\n",
      "def defs(defs_star=defs_star):\n",
      "    defs = defs_star.copy()\n",
      "    defs.resize(num_teams)\n",
      "    defs[num_teams - 1] = -np.sum(defs_star)\n",
      "    return defs\n",
      "\n",
      "@pymc.deterministic\n",
      "def home_theta(who_played_whom=who_played_whom, home=home, \n",
      "               atts=atts, defs=defs): \n",
      "    home_attack = [atts[i[0]] for i in who_played_whom]\n",
      "    away_defense = [defs[i[1]] for i in who_played_whom]\n",
      "    return [math.exp(home + home_attack[i] + away_defense[i]) for i in range(num_games)]\n",
      "    \n",
      "@pymc.deterministic\n",
      "def away_theta(who_played_whom=who_played_whom,\n",
      "               atts=atts, defs=defs): \n",
      "    away_attack = [atts[i[1]] for i in who_played_whom]\n",
      "    home_defense = [defs[i[0]] for i in who_played_whom]\n",
      "    return [math.exp(away_attack[i] + home_defense[i]) for i in range(num_games)]\n",
      "\n",
      "home_goals = pymc.Poisson('home_goals', mu=home_theta, value=observed_home_goals, observed=True)\n",
      "away_goals = pymc.Poisson('away_goals', mu=away_theta, value=observed_away_goals, observed=True)\n",
      "\n",
      "mcmc = pymc.MCMC([home, mu_att, mu_def, tau_att, tau_def, \n",
      "                  home_theta, away_theta, atts_star, defs_star, atts, defs, home_goals, away_goals])\n",
      "map_ = pymc.MAP( mcmc )\n",
      "map_.fit()\n",
      "mcmc.sample(40000, 10000, 4)"
     ],
     "language": "python",
     "metadata": {},
     "outputs": [
      {
       "output_type": "stream",
       "stream": "stdout",
       "text": [
        "\r",
        " [                  0%                  ] 21 of 40000 complete in 0.5 sec"
       ]
      },
      {
       "output_type": "stream",
       "stream": "stdout",
       "text": [
        "\r",
        " [                  0%                  ] 40 of 40000 complete in 1.0 sec"
       ]
      },
      {
       "output_type": "stream",
       "stream": "stdout",
       "text": [
        "\r",
        " [                  0%                  ] 59 of 40000 complete in 1.5 sec"
       ]
      },
      {
       "output_type": "stream",
       "stream": "stdout",
       "text": [
        "\r",
        " [                  0%                  ] 76 of 40000 complete in 2.0 sec"
       ]
      },
      {
       "output_type": "stream",
       "stream": "stdout",
       "text": [
        "\r",
        " [                  0%                  ] 95 of 40000 complete in 2.5 sec"
       ]
      },
      {
       "output_type": "stream",
       "stream": "stdout",
       "text": [
        "\r",
        " [                  0%                  ] 114 of 40000 complete in 3.0 sec"
       ]
      },
      {
       "output_type": "stream",
       "stream": "stdout",
       "text": [
        "\r",
        " [                  0%                  ] 132 of 40000 complete in 3.6 sec"
       ]
      },
      {
       "output_type": "stream",
       "stream": "stdout",
       "text": [
        "\r",
        " [                  0%                  ] 150 of 40000 complete in 4.1 sec"
       ]
      },
      {
       "output_type": "stream",
       "stream": "stdout",
       "text": [
        "\r",
        " [                  0%                  ] 168 of 40000 complete in 4.6 sec"
       ]
      },
      {
       "output_type": "stream",
       "stream": "stdout",
       "text": [
        "\r",
        " [                  0%                  ] 186 of 40000 complete in 5.1 sec"
       ]
      },
      {
       "output_type": "stream",
       "stream": "stdout",
       "text": [
        "\r",
        " [                  0%                  ] 204 of 40000 complete in 5.6 sec"
       ]
      },
      {
       "output_type": "stream",
       "stream": "stdout",
       "text": [
        "\r",
        " [                  0%                  ] 221 of 40000 complete in 6.1 sec"
       ]
      },
      {
       "output_type": "stream",
       "stream": "stdout",
       "text": [
        "\r",
        " [                  0%                  ] 239 of 40000 complete in 6.6 sec"
       ]
      },
      {
       "output_type": "stream",
       "stream": "stdout",
       "text": [
        "\r",
        " [                  0%                  ] 258 of 40000 complete in 7.2 sec"
       ]
      },
      {
       "output_type": "stream",
       "stream": "stdout",
       "text": [
        "\r",
        " [                  0%                  ] 276 of 40000 complete in 7.7 sec"
       ]
      },
      {
       "output_type": "stream",
       "stream": "stdout",
       "text": [
        "\r",
        " [                  0%                  ] 295 of 40000 complete in 8.2 sec"
       ]
      },
      {
       "output_type": "stream",
       "stream": "stdout",
       "text": [
        "\r",
        " [                  0%                  ] 313 of 40000 complete in 8.7 sec"
       ]
      },
      {
       "output_type": "stream",
       "stream": "stdout",
       "text": [
        "\r",
        " [                  0%                  ] 332 of 40000 complete in 9.2 sec"
       ]
      },
      {
       "output_type": "stream",
       "stream": "stdout",
       "text": [
        "\r",
        " [                  0%                  ] 351 of 40000 complete in 9.7 sec"
       ]
      },
      {
       "output_type": "stream",
       "stream": "stdout",
       "text": [
        "\r",
        " [                  0%                  ] 370 of 40000 complete in 10.2 sec"
       ]
      },
      {
       "output_type": "stream",
       "stream": "stdout",
       "text": [
        "\r",
        " [                  0%                  ] 390 of 40000 complete in 10.8 sec"
       ]
      },
      {
       "output_type": "stream",
       "stream": "stdout",
       "text": [
        "\r",
        " [                  1%                  ] 409 of 40000 complete in 11.3 sec"
       ]
      },
      {
       "output_type": "stream",
       "stream": "stdout",
       "text": [
        "\r",
        " [                  1%                  ] 429 of 40000 complete in 11.8 sec"
       ]
      },
      {
       "output_type": "stream",
       "stream": "stdout",
       "text": [
        "\r",
        " [                  1%                  ] 448 of 40000 complete in 12.3 sec"
       ]
      },
      {
       "output_type": "stream",
       "stream": "stdout",
       "text": [
        "\r",
        " [                  1%                  ] 467 of 40000 complete in 12.8 sec"
       ]
      },
      {
       "output_type": "stream",
       "stream": "stdout",
       "text": [
        "\r",
        " [                  1%                  ] 487 of 40000 complete in 13.3 sec"
       ]
      },
      {
       "output_type": "stream",
       "stream": "stdout",
       "text": [
        "\r",
        " [                  1%                  ] 507 of 40000 complete in 13.8 sec"
       ]
      },
      {
       "output_type": "stream",
       "stream": "stdout",
       "text": [
        "\r",
        " [                  1%                  ] 525 of 40000 complete in 14.3 sec"
       ]
      },
      {
       "output_type": "stream",
       "stream": "stdout",
       "text": [
        "\r",
        " [                  1%                  ] 545 of 40000 complete in 14.8 sec"
       ]
      },
      {
       "output_type": "stream",
       "stream": "stdout",
       "text": [
        "\r",
        " [                  1%                  ] 563 of 40000 complete in 15.3 sec"
       ]
      },
      {
       "output_type": "stream",
       "stream": "stdout",
       "text": [
        "\r",
        " [                  1%                  ] 585 of 40000 complete in 15.9 sec"
       ]
      },
      {
       "output_type": "stream",
       "stream": "stdout",
       "text": [
        "\r",
        " [                  1%                  ] 604 of 40000 complete in 16.4 sec"
       ]
      },
      {
       "output_type": "stream",
       "stream": "stdout",
       "text": [
        "\r",
        " [                  1%                  ] 623 of 40000 complete in 16.9 sec"
       ]
      },
      {
       "output_type": "stream",
       "stream": "stdout",
       "text": [
        "\r",
        " [                  1%                  ] 643 of 40000 complete in 17.4 sec"
       ]
      },
      {
       "output_type": "stream",
       "stream": "stdout",
       "text": [
        "\r",
        " [                  1%                  ] 663 of 40000 complete in 17.9 sec"
       ]
      },
      {
       "output_type": "stream",
       "stream": "stdout",
       "text": [
        "\r",
        " [                  1%                  ] 685 of 40000 complete in 18.4 sec"
       ]
      },
      {
       "output_type": "stream",
       "stream": "stdout",
       "text": [
        "\r",
        " [                  1%                  ] 704 of 40000 complete in 18.9 sec"
       ]
      },
      {
       "output_type": "stream",
       "stream": "stdout",
       "text": [
        "\r",
        " [                  1%                  ] 724 of 40000 complete in 19.4 sec"
       ]
      },
      {
       "output_type": "stream",
       "stream": "stdout",
       "text": [
        "\r",
        " [                  1%                  ] 742 of 40000 complete in 19.9 sec"
       ]
      },
      {
       "output_type": "stream",
       "stream": "stdout",
       "text": [
        "\r",
        " [                  1%                  ] 761 of 40000 complete in 20.4 sec"
       ]
      },
      {
       "output_type": "stream",
       "stream": "stdout",
       "text": [
        "\r",
        " [                  1%                  ] 780 of 40000 complete in 20.9 sec"
       ]
      },
      {
       "output_type": "stream",
       "stream": "stdout",
       "text": [
        "\r",
        " [                  1%                  ] 798 of 40000 complete in 21.4 sec"
       ]
      },
      {
       "output_type": "stream",
       "stream": "stdout",
       "text": [
        "\r",
        " [                  2%                  ] 818 of 40000 complete in 22.0 sec"
       ]
      },
      {
       "output_type": "stream",
       "stream": "stdout",
       "text": [
        "\r",
        " [                  2%                  ] 837 of 40000 complete in 22.5 sec"
       ]
      },
      {
       "output_type": "stream",
       "stream": "stdout",
       "text": [
        "\r",
        " [                  2%                  ] 856 of 40000 complete in 23.0 sec"
       ]
      },
      {
       "output_type": "stream",
       "stream": "stdout",
       "text": [
        "\r",
        " [                  2%                  ] 875 of 40000 complete in 23.5 sec"
       ]
      },
      {
       "output_type": "stream",
       "stream": "stdout",
       "text": [
        "\r",
        " [                  2%                  ] 894 of 40000 complete in 24.0 sec"
       ]
      },
      {
       "output_type": "stream",
       "stream": "stdout",
       "text": [
        "\r",
        " [                  2%                  ] 913 of 40000 complete in 24.5 sec"
       ]
      },
      {
       "output_type": "stream",
       "stream": "stdout",
       "text": [
        "\r",
        " [                  2%                  ] 931 of 40000 complete in 25.1 sec"
       ]
      },
      {
       "output_type": "stream",
       "stream": "stdout",
       "text": [
        "\r",
        " [                  2%                  ] 950 of 40000 complete in 25.6 sec"
       ]
      },
      {
       "output_type": "stream",
       "stream": "stdout",
       "text": [
        "\r",
        " [                  2%                  ] 968 of 40000 complete in 26.1 sec"
       ]
      },
      {
       "output_type": "stream",
       "stream": "stdout",
       "text": [
        "\r",
        " [                  2%                  ] 986 of 40000 complete in 26.6 sec"
       ]
      },
      {
       "output_type": "stream",
       "stream": "stdout",
       "text": [
        "\r",
        " [                  2%                  ] 1006 of 40000 complete in 27.1 sec"
       ]
      },
      {
       "output_type": "stream",
       "stream": "stdout",
       "text": [
        "\r",
        " [                  2%                  ] 1040 of 40000 complete in 27.6 sec"
       ]
      },
      {
       "output_type": "stream",
       "stream": "stdout",
       "text": [
        "\r",
        " [-                 2%                  ] 1075 of 40000 complete in 28.1 sec"
       ]
      },
      {
       "output_type": "stream",
       "stream": "stdout",
       "text": [
        "\r",
        " [-                 2%                  ] 1108 of 40000 complete in 28.6 sec"
       ]
      },
      {
       "output_type": "stream",
       "stream": "stdout",
       "text": [
        "\r",
        " [-                 2%                  ] 1138 of 40000 complete in 29.2 sec"
       ]
      },
      {
       "output_type": "stream",
       "stream": "stdout",
       "text": [
        "\r",
        " [-                 2%                  ] 1167 of 40000 complete in 29.7 sec"
       ]
      },
      {
       "output_type": "stream",
       "stream": "stdout",
       "text": [
        "\r",
        " [-                 2%                  ] 1194 of 40000 complete in 30.2 sec"
       ]
      },
      {
       "output_type": "stream",
       "stream": "stdout",
       "text": [
        "\r",
        " [-                 3%                  ] 1221 of 40000 complete in 30.7 sec"
       ]
      },
      {
       "output_type": "stream",
       "stream": "stdout",
       "text": [
        "\r",
        " [-                 3%                  ] 1249 of 40000 complete in 31.2 sec"
       ]
      },
      {
       "output_type": "stream",
       "stream": "stdout",
       "text": [
        "\r",
        " [-                 3%                  ] 1278 of 40000 complete in 31.7 sec"
       ]
      },
      {
       "output_type": "stream",
       "stream": "stdout",
       "text": [
        "\r",
        " [-                 3%                  ] 1309 of 40000 complete in 32.2 sec"
       ]
      },
      {
       "output_type": "stream",
       "stream": "stdout",
       "text": [
        "\r",
        " [-                 3%                  ] 1341 of 40000 complete in 32.7 sec"
       ]
      },
      {
       "output_type": "stream",
       "stream": "stdout",
       "text": [
        "\r",
        " [-                 3%                  ] 1371 of 40000 complete in 33.2 sec"
       ]
      },
      {
       "output_type": "stream",
       "stream": "stdout",
       "text": [
        "\r",
        " [-                 3%                  ] 1399 of 40000 complete in 33.7 sec"
       ]
      },
      {
       "output_type": "stream",
       "stream": "stdout",
       "text": [
        "\r",
        " [-                 3%                  ] 1426 of 40000 complete in 34.2 sec"
       ]
      },
      {
       "output_type": "stream",
       "stream": "stdout",
       "text": [
        "\r",
        " [-                 3%                  ] 1453 of 40000 complete in 34.7 sec"
       ]
      },
      {
       "output_type": "stream",
       "stream": "stdout",
       "text": [
        "\r",
        " [-                 3%                  ] 1481 of 40000 complete in 35.2 sec"
       ]
      },
      {
       "output_type": "stream",
       "stream": "stdout",
       "text": [
        "\r",
        " [-                 3%                  ] 1507 of 40000 complete in 35.8 sec"
       ]
      },
      {
       "output_type": "stream",
       "stream": "stdout",
       "text": [
        "\r",
        " [-                 3%                  ] 1534 of 40000 complete in 36.3 sec"
       ]
      },
      {
       "output_type": "stream",
       "stream": "stdout",
       "text": [
        "\r",
        " [-                 3%                  ] 1561 of 40000 complete in 36.8 sec"
       ]
      },
      {
       "output_type": "stream",
       "stream": "stdout",
       "text": [
        "\r",
        " [-                 3%                  ] 1588 of 40000 complete in 37.3 sec"
       ]
      },
      {
       "output_type": "stream",
       "stream": "stdout",
       "text": [
        "\r",
        " [-                 4%                  ] 1615 of 40000 complete in 37.8 sec"
       ]
      },
      {
       "output_type": "stream",
       "stream": "stdout",
       "text": [
        "\r",
        " [-                 4%                  ] 1644 of 40000 complete in 38.3 sec"
       ]
      },
      {
       "output_type": "stream",
       "stream": "stdout",
       "text": [
        "\r",
        " [-                 4%                  ] 1672 of 40000 complete in 38.8 sec"
       ]
      },
      {
       "output_type": "stream",
       "stream": "stdout",
       "text": [
        "\r",
        " [-                 4%                  ] 1700 of 40000 complete in 39.3 sec"
       ]
      },
      {
       "output_type": "stream",
       "stream": "stdout",
       "text": [
        "\r",
        " [-                 4%                  ] 1727 of 40000 complete in 39.8 sec"
       ]
      },
      {
       "output_type": "stream",
       "stream": "stdout",
       "text": [
        "\r",
        " [-                 4%                  ] 1755 of 40000 complete in 40.3 sec"
       ]
      },
      {
       "output_type": "stream",
       "stream": "stdout",
       "text": [
        "\r",
        " [-                 4%                  ] 1781 of 40000 complete in 40.9 sec"
       ]
      },
      {
       "output_type": "stream",
       "stream": "stdout",
       "text": [
        "\r",
        " [-                 4%                  ] 1807 of 40000 complete in 41.4 sec"
       ]
      },
      {
       "output_type": "stream",
       "stream": "stdout",
       "text": [
        "\r",
        " [-                 4%                  ] 1834 of 40000 complete in 41.9 sec"
       ]
      },
      {
       "output_type": "stream",
       "stream": "stdout",
       "text": [
        "\r",
        " [-                 4%                  ] 1859 of 40000 complete in 42.4 sec"
       ]
      },
      {
       "output_type": "stream",
       "stream": "stdout",
       "text": [
        "\r",
        " [-                 4%                  ] 1884 of 40000 complete in 42.9 sec"
       ]
      },
      {
       "output_type": "stream",
       "stream": "stdout",
       "text": [
        "\r",
        " [-                 4%                  ] 1910 of 40000 complete in 43.4 sec"
       ]
      },
      {
       "output_type": "stream",
       "stream": "stdout",
       "text": [
        "\r",
        " [-                 4%                  ] 1935 of 40000 complete in 43.9 sec"
       ]
      },
      {
       "output_type": "stream",
       "stream": "stdout",
       "text": [
        "\r",
        " [-                 4%                  ] 1960 of 40000 complete in 44.5 sec"
       ]
      },
      {
       "output_type": "stream",
       "stream": "stdout",
       "text": [
        "\r",
        " [-                 4%                  ] 1984 of 40000 complete in 45.0 sec"
       ]
      },
      {
       "output_type": "stream",
       "stream": "stdout",
       "text": [
        "\r",
        " [-                 5%                  ] 2025 of 40000 complete in 45.5 sec"
       ]
      },
      {
       "output_type": "stream",
       "stream": "stdout",
       "text": [
        "\r",
        " [-                 5%                  ] 2105 of 40000 complete in 46.0 sec"
       ]
      },
      {
       "output_type": "stream",
       "stream": "stdout",
       "text": [
        "\r",
        " [--                5%                  ] 2183 of 40000 complete in 46.5 sec"
       ]
      },
      {
       "output_type": "stream",
       "stream": "stdout",
       "text": [
        "\r",
        " [--                5%                  ] 2258 of 40000 complete in 47.0 sec"
       ]
      },
      {
       "output_type": "stream",
       "stream": "stdout",
       "text": [
        "\r",
        " [--                5%                  ] 2338 of 40000 complete in 47.5 sec"
       ]
      },
      {
       "output_type": "stream",
       "stream": "stdout",
       "text": [
        "\r",
        " [--                6%                  ] 2415 of 40000 complete in 48.0 sec"
       ]
      },
      {
       "output_type": "stream",
       "stream": "stdout",
       "text": [
        "\r",
        " [--                6%                  ] 2493 of 40000 complete in 48.5 sec"
       ]
      },
      {
       "output_type": "stream",
       "stream": "stdout",
       "text": [
        "\r",
        " [--                6%                  ] 2571 of 40000 complete in 49.0 sec"
       ]
      },
      {
       "output_type": "stream",
       "stream": "stdout",
       "text": [
        "\r",
        " [--                6%                  ] 2649 of 40000 complete in 49.5 sec"
       ]
      },
      {
       "output_type": "stream",
       "stream": "stdout",
       "text": [
        "\r",
        " [--                6%                  ] 2726 of 40000 complete in 50.0 sec"
       ]
      },
      {
       "output_type": "stream",
       "stream": "stdout",
       "text": [
        "\r",
        " [--                7%                  ] 2804 of 40000 complete in 50.5 sec"
       ]
      },
      {
       "output_type": "stream",
       "stream": "stdout",
       "text": [
        "\r",
        " [--                7%                  ] 2880 of 40000 complete in 51.0 sec"
       ]
      },
      {
       "output_type": "stream",
       "stream": "stdout",
       "text": [
        "\r",
        " [--                7%                  ] 2958 of 40000 complete in 51.5 sec"
       ]
      },
      {
       "output_type": "stream",
       "stream": "stdout",
       "text": [
        "\r",
        " [--                7%                  ] 3033 of 40000 complete in 52.0 sec"
       ]
      },
      {
       "output_type": "stream",
       "stream": "stdout",
       "text": [
        "\r",
        " [--                7%                  ] 3111 of 40000 complete in 52.5 sec"
       ]
      },
      {
       "output_type": "stream",
       "stream": "stdout",
       "text": [
        "\r",
        " [---               7%                  ] 3186 of 40000 complete in 53.0 sec"
       ]
      },
      {
       "output_type": "stream",
       "stream": "stdout",
       "text": [
        "\r",
        " [---               8%                  ] 3261 of 40000 complete in 53.5 sec"
       ]
      },
      {
       "output_type": "stream",
       "stream": "stdout",
       "text": [
        "\r",
        " [---               8%                  ] 3336 of 40000 complete in 54.0 sec"
       ]
      },
      {
       "output_type": "stream",
       "stream": "stdout",
       "text": [
        "\r",
        " [---               8%                  ] 3415 of 40000 complete in 54.5 sec"
       ]
      },
      {
       "output_type": "stream",
       "stream": "stdout",
       "text": [
        "\r",
        " [---               8%                  ] 3495 of 40000 complete in 55.0 sec"
       ]
      },
      {
       "output_type": "stream",
       "stream": "stdout",
       "text": [
        "\r",
        " [---               8%                  ] 3574 of 40000 complete in 55.5 sec"
       ]
      },
      {
       "output_type": "stream",
       "stream": "stdout",
       "text": [
        "\r",
        " [---               9%                  ] 3653 of 40000 complete in 56.0 sec"
       ]
      },
      {
       "output_type": "stream",
       "stream": "stdout",
       "text": [
        "\r",
        " [---               9%                  ] 3730 of 40000 complete in 56.6 sec"
       ]
      },
      {
       "output_type": "stream",
       "stream": "stdout",
       "text": [
        "\r",
        " [---               9%                  ] 3805 of 40000 complete in 57.1 sec"
       ]
      },
      {
       "output_type": "stream",
       "stream": "stdout",
       "text": [
        "\r",
        " [---               9%                  ] 3880 of 40000 complete in 57.6 sec"
       ]
      },
      {
       "output_type": "stream",
       "stream": "stdout",
       "text": [
        "\r",
        " [---               9%                  ] 3956 of 40000 complete in 58.1 sec"
       ]
      },
      {
       "output_type": "stream",
       "stream": "stdout",
       "text": [
        "\r",
        " [---              10%                  ] 4033 of 40000 complete in 58.6 sec"
       ]
      },
      {
       "output_type": "stream",
       "stream": "stdout",
       "text": [
        "\r",
        " [---              10%                  ] 4111 of 40000 complete in 59.1 sec"
       ]
      },
      {
       "output_type": "stream",
       "stream": "stdout",
       "text": [
        "\r",
        " [---              10%                  ] 4191 of 40000 complete in 59.6 sec"
       ]
      },
      {
       "output_type": "stream",
       "stream": "stdout",
       "text": [
        "\r",
        " [----             10%                  ] 4269 of 40000 complete in 60.1 sec"
       ]
      },
      {
       "output_type": "stream",
       "stream": "stdout",
       "text": [
        "\r",
        " [----             10%                  ] 4348 of 40000 complete in 60.6 sec"
       ]
      },
      {
       "output_type": "stream",
       "stream": "stdout",
       "text": [
        "\r",
        " [----             11%                  ] 4425 of 40000 complete in 61.1 sec"
       ]
      },
      {
       "output_type": "stream",
       "stream": "stdout",
       "text": [
        "\r",
        " [----             11%                  ] 4504 of 40000 complete in 61.6 sec"
       ]
      },
      {
       "output_type": "stream",
       "stream": "stdout",
       "text": [
        "\r",
        " [----             11%                  ] 4584 of 40000 complete in 62.1 sec"
       ]
      },
      {
       "output_type": "stream",
       "stream": "stdout",
       "text": [
        "\r",
        " [----             11%                  ] 4663 of 40000 complete in 62.6 sec"
       ]
      },
      {
       "output_type": "stream",
       "stream": "stdout",
       "text": [
        "\r",
        " [----             11%                  ] 4741 of 40000 complete in 63.1 sec"
       ]
      },
      {
       "output_type": "stream",
       "stream": "stdout",
       "text": [
        "\r",
        " [----             12%                  ] 4820 of 40000 complete in 63.6 sec"
       ]
      },
      {
       "output_type": "stream",
       "stream": "stdout",
       "text": [
        "\r",
        " [----             12%                  ] 4894 of 40000 complete in 64.1 sec"
       ]
      },
      {
       "output_type": "stream",
       "stream": "stdout",
       "text": [
        "\r",
        " [----             12%                  ] 4972 of 40000 complete in 64.6 sec"
       ]
      },
      {
       "output_type": "stream",
       "stream": "stdout",
       "text": [
        "\r",
        " [----             12%                  ] 5051 of 40000 complete in 65.1 sec"
       ]
      },
      {
       "output_type": "stream",
       "stream": "stdout",
       "text": [
        "\r",
        " [----             12%                  ] 5128 of 40000 complete in 65.6 sec"
       ]
      },
      {
       "output_type": "stream",
       "stream": "stdout",
       "text": [
        "\r",
        " [----             13%                  ] 5204 of 40000 complete in 66.1 sec"
       ]
      },
      {
       "output_type": "stream",
       "stream": "stdout",
       "text": [
        "\r",
        " [-----            13%                  ] 5282 of 40000 complete in 66.6 sec"
       ]
      },
      {
       "output_type": "stream",
       "stream": "stdout",
       "text": [
        "\r",
        " [-----            13%                  ] 5360 of 40000 complete in 67.1 sec"
       ]
      },
      {
       "output_type": "stream",
       "stream": "stdout",
       "text": [
        "\r",
        " [-----            13%                  ] 5439 of 40000 complete in 67.6 sec"
       ]
      },
      {
       "output_type": "stream",
       "stream": "stdout",
       "text": [
        "\r",
        " [-----            13%                  ] 5516 of 40000 complete in 68.1 sec"
       ]
      },
      {
       "output_type": "stream",
       "stream": "stdout",
       "text": [
        "\r",
        " [-----            13%                  ] 5595 of 40000 complete in 68.6 sec"
       ]
      },
      {
       "output_type": "stream",
       "stream": "stdout",
       "text": [
        "\r",
        " [-----            14%                  ] 5674 of 40000 complete in 69.1 sec"
       ]
      },
      {
       "output_type": "stream",
       "stream": "stdout",
       "text": [
        "\r",
        " [-----            14%                  ] 5753 of 40000 complete in 69.6 sec"
       ]
      },
      {
       "output_type": "stream",
       "stream": "stdout",
       "text": [
        "\r",
        " [-----            14%                  ] 5830 of 40000 complete in 70.1 sec"
       ]
      },
      {
       "output_type": "stream",
       "stream": "stdout",
       "text": [
        "\r",
        " [-----            14%                  ] 5907 of 40000 complete in 70.6 sec"
       ]
      },
      {
       "output_type": "stream",
       "stream": "stdout",
       "text": [
        "\r",
        " [-----            14%                  ] 5982 of 40000 complete in 71.1 sec"
       ]
      },
      {
       "output_type": "stream",
       "stream": "stdout",
       "text": [
        "\r",
        " [-----            15%                  ] 6062 of 40000 complete in 71.6 sec"
       ]
      },
      {
       "output_type": "stream",
       "stream": "stdout",
       "text": [
        "\r",
        " [-----            15%                  ] 6141 of 40000 complete in 72.1 sec"
       ]
      },
      {
       "output_type": "stream",
       "stream": "stdout",
       "text": [
        "\r",
        " [-----            15%                  ] 6219 of 40000 complete in 72.7 sec"
       ]
      },
      {
       "output_type": "stream",
       "stream": "stdout",
       "text": [
        "\r",
        " [-----            15%                  ] 6299 of 40000 complete in 73.2 sec"
       ]
      },
      {
       "output_type": "stream",
       "stream": "stdout",
       "text": [
        "\r",
        " [------           15%                  ] 6380 of 40000 complete in 73.7 sec"
       ]
      },
      {
       "output_type": "stream",
       "stream": "stdout",
       "text": [
        "\r",
        " [------           16%                  ] 6458 of 40000 complete in 74.2 sec"
       ]
      },
      {
       "output_type": "stream",
       "stream": "stdout",
       "text": [
        "\r",
        " [------           16%                  ] 6537 of 40000 complete in 74.7 sec"
       ]
      },
      {
       "output_type": "stream",
       "stream": "stdout",
       "text": [
        "\r",
        " [------           16%                  ] 6615 of 40000 complete in 75.2 sec"
       ]
      },
      {
       "output_type": "stream",
       "stream": "stdout",
       "text": [
        "\r",
        " [------           16%                  ] 6694 of 40000 complete in 75.7 sec"
       ]
      },
      {
       "output_type": "stream",
       "stream": "stdout",
       "text": [
        "\r",
        " [------           16%                  ] 6772 of 40000 complete in 76.2 sec"
       ]
      },
      {
       "output_type": "stream",
       "stream": "stdout",
       "text": [
        "\r",
        " [------           17%                  ] 6850 of 40000 complete in 76.7 sec"
       ]
      },
      {
       "output_type": "stream",
       "stream": "stdout",
       "text": [
        "\r",
        " [------           17%                  ] 6928 of 40000 complete in 77.2 sec"
       ]
      },
      {
       "output_type": "stream",
       "stream": "stdout",
       "text": [
        "\r",
        " [------           17%                  ] 7007 of 40000 complete in 77.7 sec"
       ]
      },
      {
       "output_type": "stream",
       "stream": "stdout",
       "text": [
        "\r",
        " [------           17%                  ] 7085 of 40000 complete in 78.2 sec"
       ]
      },
      {
       "output_type": "stream",
       "stream": "stdout",
       "text": [
        "\r",
        " [------           17%                  ] 7165 of 40000 complete in 78.7 sec"
       ]
      },
      {
       "output_type": "stream",
       "stream": "stdout",
       "text": [
        "\r",
        " [------           18%                  ] 7244 of 40000 complete in 79.2 sec"
       ]
      },
      {
       "output_type": "stream",
       "stream": "stdout",
       "text": [
        "\r",
        " [------           18%                  ] 7322 of 40000 complete in 79.7 sec"
       ]
      },
      {
       "output_type": "stream",
       "stream": "stdout",
       "text": [
        "\r",
        " [-------          18%                  ] 7397 of 40000 complete in 80.2 sec"
       ]
      },
      {
       "output_type": "stream",
       "stream": "stdout",
       "text": [
        "\r",
        " [-------          18%                  ] 7475 of 40000 complete in 80.7 sec"
       ]
      },
      {
       "output_type": "stream",
       "stream": "stdout",
       "text": [
        "\r",
        " [-------          18%                  ] 7553 of 40000 complete in 81.2 sec"
       ]
      },
      {
       "output_type": "stream",
       "stream": "stdout",
       "text": [
        "\r",
        " [-------          19%                  ] 7629 of 40000 complete in 81.7 sec"
       ]
      },
      {
       "output_type": "stream",
       "stream": "stdout",
       "text": [
        "\r",
        " [-------          19%                  ] 7705 of 40000 complete in 82.2 sec"
       ]
      },
      {
       "output_type": "stream",
       "stream": "stdout",
       "text": [
        "\r",
        " [-------          19%                  ] 7783 of 40000 complete in 82.7 sec"
       ]
      },
      {
       "output_type": "stream",
       "stream": "stdout",
       "text": [
        "\r",
        " [-------          19%                  ] 7860 of 40000 complete in 83.2 sec"
       ]
      },
      {
       "output_type": "stream",
       "stream": "stdout",
       "text": [
        "\r",
        " [-------          19%                  ] 7938 of 40000 complete in 83.7 sec"
       ]
      },
      {
       "output_type": "stream",
       "stream": "stdout",
       "text": [
        "\r",
        " [-------          20%                  ] 8017 of 40000 complete in 84.2 sec"
       ]
      },
      {
       "output_type": "stream",
       "stream": "stdout",
       "text": [
        "\r",
        " [-------          20%                  ] 8095 of 40000 complete in 84.7 sec"
       ]
      },
      {
       "output_type": "stream",
       "stream": "stdout",
       "text": [
        "\r",
        " [-------          20%                  ] 8173 of 40000 complete in 85.2 sec"
       ]
      },
      {
       "output_type": "stream",
       "stream": "stdout",
       "text": [
        "\r",
        " [-------          20%                  ] 8249 of 40000 complete in 85.7 sec"
       ]
      },
      {
       "output_type": "stream",
       "stream": "stdout",
       "text": [
        "\r",
        " [-------          20%                  ] 8326 of 40000 complete in 86.2 sec"
       ]
      },
      {
       "output_type": "stream",
       "stream": "stdout",
       "text": [
        "\r",
        " [-------          21%                  ] 8405 of 40000 complete in 86.7 sec"
       ]
      },
      {
       "output_type": "stream",
       "stream": "stdout",
       "text": [
        "\r",
        " [--------         21%                  ] 8483 of 40000 complete in 87.3 sec"
       ]
      },
      {
       "output_type": "stream",
       "stream": "stdout",
       "text": [
        "\r",
        " [--------         21%                  ] 8560 of 40000 complete in 87.8 sec"
       ]
      },
      {
       "output_type": "stream",
       "stream": "stdout",
       "text": [
        "\r",
        " [--------         21%                  ] 8636 of 40000 complete in 88.3 sec"
       ]
      },
      {
       "output_type": "stream",
       "stream": "stdout",
       "text": [
        "\r",
        " [--------         21%                  ] 8712 of 40000 complete in 88.8 sec"
       ]
      },
      {
       "output_type": "stream",
       "stream": "stdout",
       "text": [
        "\r",
        " [--------         21%                  ] 8788 of 40000 complete in 89.3 sec"
       ]
      },
      {
       "output_type": "stream",
       "stream": "stdout",
       "text": [
        "\r",
        " [--------         22%                  ] 8867 of 40000 complete in 89.8 sec"
       ]
      },
      {
       "output_type": "stream",
       "stream": "stdout",
       "text": [
        "\r",
        " [--------         22%                  ] 8943 of 40000 complete in 90.3 sec"
       ]
      },
      {
       "output_type": "stream",
       "stream": "stdout",
       "text": [
        "\r",
        " [--------         22%                  ] 9018 of 40000 complete in 90.8 sec"
       ]
      },
      {
       "output_type": "stream",
       "stream": "stdout",
       "text": [
        "\r",
        " [--------         22%                  ] 9100 of 40000 complete in 91.3 sec"
       ]
      },
      {
       "output_type": "stream",
       "stream": "stdout",
       "text": [
        "\r",
        " [--------         22%                  ] 9180 of 40000 complete in 91.8 sec"
       ]
      },
      {
       "output_type": "stream",
       "stream": "stdout",
       "text": [
        "\r",
        " [--------         23%                  ] 9257 of 40000 complete in 92.3 sec"
       ]
      },
      {
       "output_type": "stream",
       "stream": "stdout",
       "text": [
        "\r",
        " [--------         23%                  ] 9335 of 40000 complete in 92.8 sec"
       ]
      },
      {
       "output_type": "stream",
       "stream": "stdout",
       "text": [
        "\r",
        " [--------         23%                  ] 9411 of 40000 complete in 93.3 sec"
       ]
      },
      {
       "output_type": "stream",
       "stream": "stdout",
       "text": [
        "\r",
        " [---------        23%                  ] 9487 of 40000 complete in 93.8 sec"
       ]
      },
      {
       "output_type": "stream",
       "stream": "stdout",
       "text": [
        "\r",
        " [---------        23%                  ] 9566 of 40000 complete in 94.3 sec"
       ]
      },
      {
       "output_type": "stream",
       "stream": "stdout",
       "text": [
        "\r",
        " [---------        24%                  ] 9647 of 40000 complete in 94.8 sec"
       ]
      },
      {
       "output_type": "stream",
       "stream": "stdout",
       "text": [
        "\r",
        " [---------        24%                  ] 9725 of 40000 complete in 95.3 sec"
       ]
      },
      {
       "output_type": "stream",
       "stream": "stdout",
       "text": [
        "\r",
        " [---------        24%                  ] 9803 of 40000 complete in 95.8 sec"
       ]
      },
      {
       "output_type": "stream",
       "stream": "stdout",
       "text": [
        "\r",
        " [---------        24%                  ] 9883 of 40000 complete in 96.3 sec"
       ]
      },
      {
       "output_type": "stream",
       "stream": "stdout",
       "text": [
        "\r",
        " [---------        24%                  ] 9962 of 40000 complete in 96.8 sec"
       ]
      },
      {
       "output_type": "stream",
       "stream": "stdout",
       "text": [
        "\r",
        " [---------        25%                  ] 10041 of 40000 complete in 97.3 sec"
       ]
      },
      {
       "output_type": "stream",
       "stream": "stdout",
       "text": [
        "\r",
        " [---------        25%                  ] 10118 of 40000 complete in 97.8 sec"
       ]
      },
      {
       "output_type": "stream",
       "stream": "stdout",
       "text": [
        "\r",
        " [---------        25%                  ] 10194 of 40000 complete in 98.3 sec"
       ]
      },
      {
       "output_type": "stream",
       "stream": "stdout",
       "text": [
        "\r",
        " [---------        25%                  ] 10273 of 40000 complete in 98.9 sec"
       ]
      },
      {
       "output_type": "stream",
       "stream": "stdout",
       "text": [
        "\r",
        " [---------        25%                  ] 10351 of 40000 complete in 99.4 sec"
       ]
      },
      {
       "output_type": "stream",
       "stream": "stdout",
       "text": [
        "\r",
        " [---------        26%                  ] 10427 of 40000 complete in 99.9 sec"
       ]
      },
      {
       "output_type": "stream",
       "stream": "stdout",
       "text": [
        "\r",
        " [---------        26%                  ] 10506 of 40000 complete in 100.4 sec"
       ]
      },
      {
       "output_type": "stream",
       "stream": "stdout",
       "text": [
        "\r",
        " [----------       26%                  ] 10580 of 40000 complete in 100.9 sec"
       ]
      },
      {
       "output_type": "stream",
       "stream": "stdout",
       "text": [
        "\r",
        " [----------       26%                  ] 10657 of 40000 complete in 101.4 sec"
       ]
      },
      {
       "output_type": "stream",
       "stream": "stdout",
       "text": [
        "\r",
        " [----------       26%                  ] 10736 of 40000 complete in 101.9 sec"
       ]
      },
      {
       "output_type": "stream",
       "stream": "stdout",
       "text": [
        "\r",
        " [----------       27%                  ] 10812 of 40000 complete in 102.4 sec"
       ]
      },
      {
       "output_type": "stream",
       "stream": "stdout",
       "text": [
        "\r",
        " [----------       27%                  ] 10891 of 40000 complete in 102.9 sec"
       ]
      },
      {
       "output_type": "stream",
       "stream": "stdout",
       "text": [
        "\r",
        " [----------       27%                  ] 10966 of 40000 complete in 103.4 sec"
       ]
      },
      {
       "output_type": "stream",
       "stream": "stdout",
       "text": [
        "\r",
        " [----------       27%                  ] 11042 of 40000 complete in 103.9 sec"
       ]
      },
      {
       "output_type": "stream",
       "stream": "stdout",
       "text": [
        "\r",
        " [----------       27%                  ] 11120 of 40000 complete in 104.4 sec"
       ]
      },
      {
       "output_type": "stream",
       "stream": "stdout",
       "text": [
        "\r",
        " [----------       27%                  ] 11194 of 40000 complete in 104.9 sec"
       ]
      },
      {
       "output_type": "stream",
       "stream": "stdout",
       "text": [
        "\r",
        " [----------       28%                  ] 11272 of 40000 complete in 105.4 sec"
       ]
      },
      {
       "output_type": "stream",
       "stream": "stdout",
       "text": [
        "\r",
        " [----------       28%                  ] 11347 of 40000 complete in 105.9 sec"
       ]
      },
      {
       "output_type": "stream",
       "stream": "stdout",
       "text": [
        "\r",
        " [----------       28%                  ] 11417 of 40000 complete in 106.4 sec"
       ]
      },
      {
       "output_type": "stream",
       "stream": "stdout",
       "text": [
        "\r",
        " [----------       28%                  ] 11488 of 40000 complete in 106.9 sec"
       ]
      },
      {
       "output_type": "stream",
       "stream": "stdout",
       "text": [
        "\r",
        " [----------       28%                  ] 11560 of 40000 complete in 107.4 sec"
       ]
      },
      {
       "output_type": "stream",
       "stream": "stdout",
       "text": [
        "\r",
        " [-----------      29%                  ] 11633 of 40000 complete in 107.9 sec"
       ]
      },
      {
       "output_type": "stream",
       "stream": "stdout",
       "text": [
        "\r",
        " [-----------      29%                  ] 11709 of 40000 complete in 108.4 sec"
       ]
      },
      {
       "output_type": "stream",
       "stream": "stdout",
       "text": [
        "\r",
        " [-----------      29%                  ] 11784 of 40000 complete in 108.9 sec"
       ]
      },
      {
       "output_type": "stream",
       "stream": "stdout",
       "text": [
        "\r",
        " [-----------      29%                  ] 11856 of 40000 complete in 109.4 sec"
       ]
      },
      {
       "output_type": "stream",
       "stream": "stdout",
       "text": [
        "\r",
        " [-----------      29%                  ] 11931 of 40000 complete in 109.9 sec"
       ]
      },
      {
       "output_type": "stream",
       "stream": "stdout",
       "text": [
        "\r",
        " [-----------      30%                  ] 12004 of 40000 complete in 110.4 sec"
       ]
      },
      {
       "output_type": "stream",
       "stream": "stdout",
       "text": [
        "\r",
        " [-----------      30%                  ] 12082 of 40000 complete in 110.9 sec"
       ]
      },
      {
       "output_type": "stream",
       "stream": "stdout",
       "text": [
        "\r",
        " [-----------      30%                  ] 12160 of 40000 complete in 111.4 sec"
       ]
      },
      {
       "output_type": "stream",
       "stream": "stdout",
       "text": [
        "\r",
        " [-----------      30%                  ] 12234 of 40000 complete in 111.9 sec"
       ]
      },
      {
       "output_type": "stream",
       "stream": "stdout",
       "text": [
        "\r",
        " [-----------      30%                  ] 12310 of 40000 complete in 112.4 sec"
       ]
      },
      {
       "output_type": "stream",
       "stream": "stdout",
       "text": [
        "\r",
        " [-----------      30%                  ] 12384 of 40000 complete in 112.9 sec"
       ]
      },
      {
       "output_type": "stream",
       "stream": "stdout",
       "text": [
        "\r",
        " [-----------      31%                  ] 12458 of 40000 complete in 113.4 sec"
       ]
      },
      {
       "output_type": "stream",
       "stream": "stdout",
       "text": [
        "\r",
        " [-----------      31%                  ] 12531 of 40000 complete in 113.9 sec"
       ]
      },
      {
       "output_type": "stream",
       "stream": "stdout",
       "text": [
        "\r",
        " [-----------      31%                  ] 12606 of 40000 complete in 114.4 sec"
       ]
      },
      {
       "output_type": "stream",
       "stream": "stdout",
       "text": [
        "\r",
        " [------------     31%                  ] 12683 of 40000 complete in 114.9 sec"
       ]
      },
      {
       "output_type": "stream",
       "stream": "stdout",
       "text": [
        "\r",
        " [------------     31%                  ] 12755 of 40000 complete in 115.5 sec"
       ]
      },
      {
       "output_type": "stream",
       "stream": "stdout",
       "text": [
        "\r",
        " [------------     32%                  ] 12829 of 40000 complete in 116.0 sec"
       ]
      },
      {
       "output_type": "stream",
       "stream": "stdout",
       "text": [
        "\r",
        " [------------     32%                  ] 12908 of 40000 complete in 116.5 sec"
       ]
      },
      {
       "output_type": "stream",
       "stream": "stdout",
       "text": [
        "\r",
        " [------------     32%                  ] 12982 of 40000 complete in 117.0 sec"
       ]
      },
      {
       "output_type": "stream",
       "stream": "stdout",
       "text": [
        "\r",
        " [------------     32%                  ] 13057 of 40000 complete in 117.5 sec"
       ]
      },
      {
       "output_type": "stream",
       "stream": "stdout",
       "text": [
        "\r",
        " [------------     32%                  ] 13133 of 40000 complete in 118.0 sec"
       ]
      },
      {
       "output_type": "stream",
       "stream": "stdout",
       "text": [
        "\r",
        " [------------     33%                  ] 13208 of 40000 complete in 118.5 sec"
       ]
      },
      {
       "output_type": "stream",
       "stream": "stdout",
       "text": [
        "\r",
        " [------------     33%                  ] 13284 of 40000 complete in 119.0 sec"
       ]
      },
      {
       "output_type": "stream",
       "stream": "stdout",
       "text": [
        "\r",
        " [------------     33%                  ] 13355 of 40000 complete in 119.5 sec"
       ]
      },
      {
       "output_type": "stream",
       "stream": "stdout",
       "text": [
        "\r",
        " [------------     33%                  ] 13429 of 40000 complete in 120.0 sec"
       ]
      },
      {
       "output_type": "stream",
       "stream": "stdout",
       "text": [
        "\r",
        " [------------     33%                  ] 13503 of 40000 complete in 120.5 sec"
       ]
      },
      {
       "output_type": "stream",
       "stream": "stdout",
       "text": [
        "\r",
        " [------------     33%                  ] 13577 of 40000 complete in 121.0 sec"
       ]
      },
      {
       "output_type": "stream",
       "stream": "stdout",
       "text": [
        "\r",
        " [------------     34%                  ] 13647 of 40000 complete in 121.5 sec"
       ]
      },
      {
       "output_type": "stream",
       "stream": "stdout",
       "text": [
        "\r",
        " [-------------    34%                  ] 13716 of 40000 complete in 122.0 sec"
       ]
      },
      {
       "output_type": "stream",
       "stream": "stdout",
       "text": [
        "\r",
        " [-------------    34%                  ] 13783 of 40000 complete in 122.5 sec"
       ]
      },
      {
       "output_type": "stream",
       "stream": "stdout",
       "text": [
        "\r",
        " [-------------    34%                  ] 13850 of 40000 complete in 123.0 sec"
       ]
      },
      {
       "output_type": "stream",
       "stream": "stdout",
       "text": [
        "\r",
        " [-------------    34%                  ] 13915 of 40000 complete in 123.5 sec"
       ]
      },
      {
       "output_type": "stream",
       "stream": "stdout",
       "text": [
        "\r",
        " [-------------    34%                  ] 13979 of 40000 complete in 124.0 sec"
       ]
      },
      {
       "output_type": "stream",
       "stream": "stdout",
       "text": [
        "\r",
        " [-------------    35%                  ] 14051 of 40000 complete in 124.5 sec"
       ]
      },
      {
       "output_type": "stream",
       "stream": "stdout",
       "text": [
        "\r",
        " [-------------    35%                  ] 14125 of 40000 complete in 125.0 sec"
       ]
      },
      {
       "output_type": "stream",
       "stream": "stdout",
       "text": [
        "\r",
        " [-------------    35%                  ] 14203 of 40000 complete in 125.5 sec"
       ]
      },
      {
       "output_type": "stream",
       "stream": "stdout",
       "text": [
        "\r",
        " [-------------    35%                  ] 14278 of 40000 complete in 126.0 sec"
       ]
      },
      {
       "output_type": "stream",
       "stream": "stdout",
       "text": [
        "\r",
        " [-------------    35%                  ] 14354 of 40000 complete in 126.5 sec"
       ]
      },
      {
       "output_type": "stream",
       "stream": "stdout",
       "text": [
        "\r",
        " [-------------    36%                  ] 14431 of 40000 complete in 127.0 sec"
       ]
      },
      {
       "output_type": "stream",
       "stream": "stdout",
       "text": [
        "\r",
        " [-------------    36%                  ] 14508 of 40000 complete in 127.5 sec"
       ]
      },
      {
       "output_type": "stream",
       "stream": "stdout",
       "text": [
        "\r",
        " [-------------    36%                  ] 14582 of 40000 complete in 128.0 sec"
       ]
      },
      {
       "output_type": "stream",
       "stream": "stdout",
       "text": [
        "\r",
        " [-------------    36%                  ] 14660 of 40000 complete in 128.5 sec"
       ]
      },
      {
       "output_type": "stream",
       "stream": "stdout",
       "text": [
        "\r",
        " [--------------   36%                  ] 14738 of 40000 complete in 129.0 sec"
       ]
      },
      {
       "output_type": "stream",
       "stream": "stdout",
       "text": [
        "\r",
        " [--------------   37%                  ] 14817 of 40000 complete in 129.5 sec"
       ]
      },
      {
       "output_type": "stream",
       "stream": "stdout",
       "text": [
        "\r",
        " [--------------   37%                  ] 14894 of 40000 complete in 130.1 sec"
       ]
      },
      {
       "output_type": "stream",
       "stream": "stdout",
       "text": [
        "\r",
        " [--------------   37%                  ] 14970 of 40000 complete in 130.6 sec"
       ]
      },
      {
       "output_type": "stream",
       "stream": "stdout",
       "text": [
        "\r",
        " [--------------   37%                  ] 15044 of 40000 complete in 131.1 sec"
       ]
      },
      {
       "output_type": "stream",
       "stream": "stdout",
       "text": [
        "\r",
        " [--------------   37%                  ] 15119 of 40000 complete in 131.6 sec"
       ]
      },
      {
       "output_type": "stream",
       "stream": "stdout",
       "text": [
        "\r",
        " [--------------   37%                  ] 15193 of 40000 complete in 132.1 sec"
       ]
      },
      {
       "output_type": "stream",
       "stream": "stdout",
       "text": [
        "\r",
        " [--------------   38%                  ] 15266 of 40000 complete in 132.6 sec"
       ]
      },
      {
       "output_type": "stream",
       "stream": "stdout",
       "text": [
        "\r",
        " [--------------   38%                  ] 15340 of 40000 complete in 133.1 sec"
       ]
      },
      {
       "output_type": "stream",
       "stream": "stdout",
       "text": [
        "\r",
        " [--------------   38%                  ] 15414 of 40000 complete in 133.6 sec"
       ]
      },
      {
       "output_type": "stream",
       "stream": "stdout",
       "text": [
        "\r",
        " [--------------   38%                  ] 15487 of 40000 complete in 134.1 sec"
       ]
      },
      {
       "output_type": "stream",
       "stream": "stdout",
       "text": [
        "\r",
        " [--------------   38%                  ] 15561 of 40000 complete in 134.6 sec"
       ]
      },
      {
       "output_type": "stream",
       "stream": "stdout",
       "text": [
        "\r",
        " [--------------   39%                  ] 15638 of 40000 complete in 135.1 sec"
       ]
      },
      {
       "output_type": "stream",
       "stream": "stdout",
       "text": [
        "\r",
        " [--------------   39%                  ] 15712 of 40000 complete in 135.6 sec"
       ]
      },
      {
       "output_type": "stream",
       "stream": "stdout",
       "text": [
        "\r",
        " [--------------   39%                  ] 15786 of 40000 complete in 136.1 sec"
       ]
      },
      {
       "output_type": "stream",
       "stream": "stdout",
       "text": [
        "\r",
        " [---------------  39%                  ] 15858 of 40000 complete in 136.6 sec"
       ]
      },
      {
       "output_type": "stream",
       "stream": "stdout",
       "text": [
        "\r",
        " [---------------  39%                  ] 15927 of 40000 complete in 137.1 sec"
       ]
      },
      {
       "output_type": "stream",
       "stream": "stdout",
       "text": [
        "\r",
        " [---------------  40%                  ] 16003 of 40000 complete in 137.6 sec"
       ]
      },
      {
       "output_type": "stream",
       "stream": "stdout",
       "text": [
        "\r",
        " [---------------  40%                  ] 16074 of 40000 complete in 138.1 sec"
       ]
      },
      {
       "output_type": "stream",
       "stream": "stdout",
       "text": [
        "\r",
        " [---------------  40%                  ] 16145 of 40000 complete in 138.6 sec"
       ]
      },
      {
       "output_type": "stream",
       "stream": "stdout",
       "text": [
        "\r",
        " [---------------  40%                  ] 16217 of 40000 complete in 139.1 sec"
       ]
      },
      {
       "output_type": "stream",
       "stream": "stdout",
       "text": [
        "\r",
        " [---------------  40%                  ] 16293 of 40000 complete in 139.6 sec"
       ]
      },
      {
       "output_type": "stream",
       "stream": "stdout",
       "text": [
        "\r",
        " [---------------  40%                  ] 16369 of 40000 complete in 140.1 sec"
       ]
      },
      {
       "output_type": "stream",
       "stream": "stdout",
       "text": [
        "\r",
        " [---------------  41%                  ] 16439 of 40000 complete in 140.6 sec"
       ]
      },
      {
       "output_type": "stream",
       "stream": "stdout",
       "text": [
        "\r",
        " [---------------  41%                  ] 16511 of 40000 complete in 141.1 sec"
       ]
      },
      {
       "output_type": "stream",
       "stream": "stdout",
       "text": [
        "\r",
        " [---------------  41%                  ] 16584 of 40000 complete in 141.6 sec"
       ]
      },
      {
       "output_type": "stream",
       "stream": "stdout",
       "text": [
        "\r",
        " [---------------  41%                  ] 16657 of 40000 complete in 142.2 sec"
       ]
      },
      {
       "output_type": "stream",
       "stream": "stdout",
       "text": [
        "\r",
        " [---------------  41%                  ] 16731 of 40000 complete in 142.7 sec"
       ]
      },
      {
       "output_type": "stream",
       "stream": "stdout",
       "text": [
        "\r",
        " [---------------  42%                  ] 16802 of 40000 complete in 143.2 sec"
       ]
      },
      {
       "output_type": "stream",
       "stream": "stdout",
       "text": [
        "\r",
        " [---------------- 42%                  ] 16873 of 40000 complete in 143.7 sec"
       ]
      },
      {
       "output_type": "stream",
       "stream": "stdout",
       "text": [
        "\r",
        " [---------------- 42%                  ] 16946 of 40000 complete in 144.2 sec"
       ]
      },
      {
       "output_type": "stream",
       "stream": "stdout",
       "text": [
        "\r",
        " [---------------- 42%                  ] 17020 of 40000 complete in 144.7 sec"
       ]
      },
      {
       "output_type": "stream",
       "stream": "stdout",
       "text": [
        "\r",
        " [---------------- 42%                  ] 17094 of 40000 complete in 145.2 sec"
       ]
      },
      {
       "output_type": "stream",
       "stream": "stdout",
       "text": [
        "\r",
        " [---------------- 42%                  ] 17170 of 40000 complete in 145.7 sec"
       ]
      },
      {
       "output_type": "stream",
       "stream": "stdout",
       "text": [
        "\r",
        " [---------------- 43%                  ] 17245 of 40000 complete in 146.2 sec"
       ]
      },
      {
       "output_type": "stream",
       "stream": "stdout",
       "text": [
        "\r",
        " [---------------- 43%                  ] 17319 of 40000 complete in 146.7 sec"
       ]
      },
      {
       "output_type": "stream",
       "stream": "stdout",
       "text": [
        "\r",
        " [---------------- 43%                  ] 17394 of 40000 complete in 147.2 sec"
       ]
      },
      {
       "output_type": "stream",
       "stream": "stdout",
       "text": [
        "\r",
        " [---------------- 43%                  ] 17470 of 40000 complete in 147.7 sec"
       ]
      },
      {
       "output_type": "stream",
       "stream": "stdout",
       "text": [
        "\r",
        " [---------------- 43%                  ] 17546 of 40000 complete in 148.2 sec"
       ]
      },
      {
       "output_type": "stream",
       "stream": "stdout",
       "text": [
        "\r",
        " [---------------- 44%                  ] 17623 of 40000 complete in 148.7 sec"
       ]
      },
      {
       "output_type": "stream",
       "stream": "stdout",
       "text": [
        "\r",
        " [---------------- 44%                  ] 17699 of 40000 complete in 149.2 sec"
       ]
      },
      {
       "output_type": "stream",
       "stream": "stdout",
       "text": [
        "\r",
        " [---------------- 44%                  ] 17776 of 40000 complete in 149.7 sec"
       ]
      },
      {
       "output_type": "stream",
       "stream": "stdout",
       "text": [
        "\r",
        " [---------------- 44%                  ] 17849 of 40000 complete in 150.2 sec"
       ]
      },
      {
       "output_type": "stream",
       "stream": "stdout",
       "text": [
        "\r",
        " [-----------------44%                  ] 17927 of 40000 complete in 150.7 sec"
       ]
      },
      {
       "output_type": "stream",
       "stream": "stdout",
       "text": [
        "\r",
        " [-----------------45%                  ] 18003 of 40000 complete in 151.2 sec"
       ]
      },
      {
       "output_type": "stream",
       "stream": "stdout",
       "text": [
        "\r",
        " [-----------------45%                  ] 18081 of 40000 complete in 151.7 sec"
       ]
      },
      {
       "output_type": "stream",
       "stream": "stdout",
       "text": [
        "\r",
        " [-----------------45%                  ] 18159 of 40000 complete in 152.2 sec"
       ]
      },
      {
       "output_type": "stream",
       "stream": "stdout",
       "text": [
        "\r",
        " [-----------------45%                  ] 18236 of 40000 complete in 152.7 sec"
       ]
      },
      {
       "output_type": "stream",
       "stream": "stdout",
       "text": [
        "\r",
        " [-----------------45%                  ] 18312 of 40000 complete in 153.2 sec"
       ]
      },
      {
       "output_type": "stream",
       "stream": "stdout",
       "text": [
        "\r",
        " [-----------------45%                  ] 18387 of 40000 complete in 153.7 sec"
       ]
      },
      {
       "output_type": "stream",
       "stream": "stdout",
       "text": [
        "\r",
        " [-----------------46%                  ] 18464 of 40000 complete in 154.2 sec"
       ]
      },
      {
       "output_type": "stream",
       "stream": "stdout",
       "text": [
        "\r",
        " [-----------------46%                  ] 18540 of 40000 complete in 154.7 sec"
       ]
      },
      {
       "output_type": "stream",
       "stream": "stdout",
       "text": [
        "\r",
        " [-----------------46%                  ] 18618 of 40000 complete in 155.2 sec"
       ]
      },
      {
       "output_type": "stream",
       "stream": "stdout",
       "text": [
        "\r",
        " [-----------------46%                  ] 18692 of 40000 complete in 155.7 sec"
       ]
      },
      {
       "output_type": "stream",
       "stream": "stdout",
       "text": [
        "\r",
        " [-----------------46%                  ] 18768 of 40000 complete in 156.2 sec"
       ]
      },
      {
       "output_type": "stream",
       "stream": "stdout",
       "text": [
        "\r",
        " [-----------------47%                  ] 18844 of 40000 complete in 156.7 sec"
       ]
      },
      {
       "output_type": "stream",
       "stream": "stdout",
       "text": [
        "\r",
        " [-----------------47%                  ] 18919 of 40000 complete in 157.2 sec"
       ]
      },
      {
       "output_type": "stream",
       "stream": "stdout",
       "text": [
        "\r",
        " [-----------------47%                  ] 18992 of 40000 complete in 157.7 sec"
       ]
      },
      {
       "output_type": "stream",
       "stream": "stdout",
       "text": [
        "\r",
        " [-----------------47%                  ] 19068 of 40000 complete in 158.2 sec"
       ]
      },
      {
       "output_type": "stream",
       "stream": "stdout",
       "text": [
        "\r",
        " [-----------------47%                  ] 19143 of 40000 complete in 158.8 sec"
       ]
      },
      {
       "output_type": "stream",
       "stream": "stdout",
       "text": [
        "\r",
        " [-----------------48%                  ] 19213 of 40000 complete in 159.3 sec"
       ]
      },
      {
       "output_type": "stream",
       "stream": "stdout",
       "text": [
        "\r",
        " [-----------------48%                  ] 19285 of 40000 complete in 159.8 sec"
       ]
      },
      {
       "output_type": "stream",
       "stream": "stdout",
       "text": [
        "\r",
        " [-----------------48%                  ] 19358 of 40000 complete in 160.3 sec"
       ]
      },
      {
       "output_type": "stream",
       "stream": "stdout",
       "text": [
        "\r",
        " [-----------------48%                  ] 19429 of 40000 complete in 160.8 sec"
       ]
      },
      {
       "output_type": "stream",
       "stream": "stdout",
       "text": [
        "\r",
        " [-----------------48%                  ] 19498 of 40000 complete in 161.3 sec"
       ]
      },
      {
       "output_type": "stream",
       "stream": "stdout",
       "text": [
        "\r",
        " [-----------------48%                  ] 19568 of 40000 complete in 161.8 sec"
       ]
      },
      {
       "output_type": "stream",
       "stream": "stdout",
       "text": [
        "\r",
        " [-----------------49%                  ] 19632 of 40000 complete in 162.3 sec"
       ]
      },
      {
       "output_type": "stream",
       "stream": "stdout",
       "text": [
        "\r",
        " [-----------------49%                  ] 19698 of 40000 complete in 162.8 sec"
       ]
      },
      {
       "output_type": "stream",
       "stream": "stdout",
       "text": [
        "\r",
        " [-----------------49%                  ] 19765 of 40000 complete in 163.3 sec"
       ]
      },
      {
       "output_type": "stream",
       "stream": "stdout",
       "text": [
        "\r",
        " [-----------------49%                  ] 19830 of 40000 complete in 163.8 sec"
       ]
      },
      {
       "output_type": "stream",
       "stream": "stdout",
       "text": [
        "\r",
        " [-----------------49%                  ] 19896 of 40000 complete in 164.3 sec"
       ]
      },
      {
       "output_type": "stream",
       "stream": "stdout",
       "text": [
        "\r",
        " [-----------------49%                  ] 19963 of 40000 complete in 164.8 sec"
       ]
      },
      {
       "output_type": "stream",
       "stream": "stdout",
       "text": [
        "\r",
        " [-----------------50%                  ] 20032 of 40000 complete in 165.3 sec"
       ]
      },
      {
       "output_type": "stream",
       "stream": "stdout",
       "text": [
        "\r",
        " [-----------------50%                  ] 20108 of 40000 complete in 165.8 sec"
       ]
      },
      {
       "output_type": "stream",
       "stream": "stdout",
       "text": [
        "\r",
        " [-----------------50%                  ] 20182 of 40000 complete in 166.3 sec"
       ]
      },
      {
       "output_type": "stream",
       "stream": "stdout",
       "text": [
        "\r",
        " [-----------------50%                  ] 20255 of 40000 complete in 166.8 sec"
       ]
      },
      {
       "output_type": "stream",
       "stream": "stdout",
       "text": [
        "\r",
        " [-----------------50%                  ] 20328 of 40000 complete in 167.3 sec"
       ]
      },
      {
       "output_type": "stream",
       "stream": "stdout",
       "text": [
        "\r",
        " [-----------------51%                  ] 20402 of 40000 complete in 167.8 sec"
       ]
      },
      {
       "output_type": "stream",
       "stream": "stdout",
       "text": [
        "\r",
        " [-----------------51%                  ] 20476 of 40000 complete in 168.3 sec"
       ]
      },
      {
       "output_type": "stream",
       "stream": "stdout",
       "text": [
        "\r",
        " [-----------------51%                  ] 20549 of 40000 complete in 168.8 sec"
       ]
      },
      {
       "output_type": "stream",
       "stream": "stdout",
       "text": [
        "\r",
        " [-----------------51%                  ] 20622 of 40000 complete in 169.3 sec"
       ]
      },
      {
       "output_type": "stream",
       "stream": "stdout",
       "text": [
        "\r",
        " [-----------------51%                  ] 20693 of 40000 complete in 169.8 sec"
       ]
      },
      {
       "output_type": "stream",
       "stream": "stdout",
       "text": [
        "\r",
        " [-----------------51%                  ] 20764 of 40000 complete in 170.3 sec"
       ]
      },
      {
       "output_type": "stream",
       "stream": "stdout",
       "text": [
        "\r",
        " [-----------------52%                  ] 20836 of 40000 complete in 170.8 sec"
       ]
      },
      {
       "output_type": "stream",
       "stream": "stdout",
       "text": [
        "\r",
        " [-----------------52%                  ] 20906 of 40000 complete in 171.3 sec"
       ]
      },
      {
       "output_type": "stream",
       "stream": "stdout",
       "text": [
        "\r",
        " [-----------------52%                  ] 20978 of 40000 complete in 171.8 sec"
       ]
      },
      {
       "output_type": "stream",
       "stream": "stdout",
       "text": [
        "\r",
        " [-----------------52%                  ] 21048 of 40000 complete in 172.3 sec"
       ]
      },
      {
       "output_type": "stream",
       "stream": "stdout",
       "text": [
        "\r",
        " [-----------------52%                  ] 21121 of 40000 complete in 172.8 sec"
       ]
      },
      {
       "output_type": "stream",
       "stream": "stdout",
       "text": [
        "\r",
        " [-----------------52%                  ] 21195 of 40000 complete in 173.3 sec"
       ]
      },
      {
       "output_type": "stream",
       "stream": "stdout",
       "text": [
        "\r",
        " [-----------------53%                  ] 21268 of 40000 complete in 173.8 sec"
       ]
      },
      {
       "output_type": "stream",
       "stream": "stdout",
       "text": [
        "\r",
        " [-----------------53%                  ] 21340 of 40000 complete in 174.3 sec"
       ]
      },
      {
       "output_type": "stream",
       "stream": "stdout",
       "text": [
        "\r",
        " [-----------------53%                  ] 21415 of 40000 complete in 174.8 sec"
       ]
      },
      {
       "output_type": "stream",
       "stream": "stdout",
       "text": [
        "\r",
        " [-----------------53%                  ] 21486 of 40000 complete in 175.4 sec"
       ]
      },
      {
       "output_type": "stream",
       "stream": "stdout",
       "text": [
        "\r",
        " [-----------------53%                  ] 21555 of 40000 complete in 175.9 sec"
       ]
      },
      {
       "output_type": "stream",
       "stream": "stdout",
       "text": [
        "\r",
        " [-----------------54%                  ] 21620 of 40000 complete in 176.4 sec"
       ]
      },
      {
       "output_type": "stream",
       "stream": "stdout",
       "text": [
        "\r",
        " [-----------------54%                  ] 21683 of 40000 complete in 176.9 sec"
       ]
      },
      {
       "output_type": "stream",
       "stream": "stdout",
       "text": [
        "\r",
        " [-----------------54%                  ] 21749 of 40000 complete in 177.4 sec"
       ]
      },
      {
       "output_type": "stream",
       "stream": "stdout",
       "text": [
        "\r",
        " [-----------------54%                  ] 21814 of 40000 complete in 177.9 sec"
       ]
      },
      {
       "output_type": "stream",
       "stream": "stdout",
       "text": [
        "\r",
        " [-----------------54%                  ] 21876 of 40000 complete in 178.4 sec"
       ]
      },
      {
       "output_type": "stream",
       "stream": "stdout",
       "text": [
        "\r",
        " [-----------------54%                  ] 21943 of 40000 complete in 178.9 sec"
       ]
      },
      {
       "output_type": "stream",
       "stream": "stdout",
       "text": [
        "\r",
        " [-----------------55%                  ] 22010 of 40000 complete in 179.4 sec"
       ]
      },
      {
       "output_type": "stream",
       "stream": "stdout",
       "text": [
        "\r",
        " [-----------------55%                  ] 22085 of 40000 complete in 179.9 sec"
       ]
      },
      {
       "output_type": "stream",
       "stream": "stdout",
       "text": [
        "\r",
        " [-----------------55%-                 ] 22162 of 40000 complete in 180.4 sec"
       ]
      },
      {
       "output_type": "stream",
       "stream": "stdout",
       "text": [
        "\r",
        " [-----------------55%-                 ] 22236 of 40000 complete in 180.9 sec"
       ]
      },
      {
       "output_type": "stream",
       "stream": "stdout",
       "text": [
        "\r",
        " [-----------------55%-                 ] 22313 of 40000 complete in 181.4 sec"
       ]
      },
      {
       "output_type": "stream",
       "stream": "stdout",
       "text": [
        "\r",
        " [-----------------55%-                 ] 22387 of 40000 complete in 181.9 sec"
       ]
      },
      {
       "output_type": "stream",
       "stream": "stdout",
       "text": [
        "\r",
        " [-----------------56%-                 ] 22457 of 40000 complete in 182.4 sec"
       ]
      },
      {
       "output_type": "stream",
       "stream": "stdout",
       "text": [
        "\r",
        " [-----------------56%-                 ] 22529 of 40000 complete in 182.9 sec"
       ]
      },
      {
       "output_type": "stream",
       "stream": "stdout",
       "text": [
        "\r",
        " [-----------------56%-                 ] 22600 of 40000 complete in 183.4 sec"
       ]
      },
      {
       "output_type": "stream",
       "stream": "stdout",
       "text": [
        "\r",
        " [-----------------56%-                 ] 22673 of 40000 complete in 183.9 sec"
       ]
      },
      {
       "output_type": "stream",
       "stream": "stdout",
       "text": [
        "\r",
        " [-----------------56%-                 ] 22746 of 40000 complete in 184.4 sec"
       ]
      },
      {
       "output_type": "stream",
       "stream": "stdout",
       "text": [
        "\r",
        " [-----------------57%-                 ] 22819 of 40000 complete in 184.9 sec"
       ]
      },
      {
       "output_type": "stream",
       "stream": "stdout",
       "text": [
        "\r",
        " [-----------------57%-                 ] 22890 of 40000 complete in 185.4 sec"
       ]
      },
      {
       "output_type": "stream",
       "stream": "stdout",
       "text": [
        "\r",
        " [-----------------57%-                 ] 22958 of 40000 complete in 185.9 sec"
       ]
      },
      {
       "output_type": "stream",
       "stream": "stdout",
       "text": [
        "\r",
        " [-----------------57%-                 ] 23031 of 40000 complete in 186.4 sec"
       ]
      },
      {
       "output_type": "stream",
       "stream": "stdout",
       "text": [
        "\r",
        " [-----------------57%-                 ] 23103 of 40000 complete in 186.9 sec"
       ]
      },
      {
       "output_type": "stream",
       "stream": "stdout",
       "text": [
        "\r",
        " [-----------------57%--                ] 23176 of 40000 complete in 187.4 sec"
       ]
      },
      {
       "output_type": "stream",
       "stream": "stdout",
       "text": [
        "\r",
        " [-----------------58%--                ] 23249 of 40000 complete in 187.9 sec"
       ]
      },
      {
       "output_type": "stream",
       "stream": "stdout",
       "text": [
        "\r",
        " [-----------------58%--                ] 23323 of 40000 complete in 188.4 sec"
       ]
      },
      {
       "output_type": "stream",
       "stream": "stdout",
       "text": [
        "\r",
        " [-----------------58%--                ] 23398 of 40000 complete in 189.0 sec"
       ]
      },
      {
       "output_type": "stream",
       "stream": "stdout",
       "text": [
        "\r",
        " [-----------------58%--                ] 23472 of 40000 complete in 189.5 sec"
       ]
      },
      {
       "output_type": "stream",
       "stream": "stdout",
       "text": [
        "\r",
        " [-----------------58%--                ] 23544 of 40000 complete in 190.0 sec"
       ]
      },
      {
       "output_type": "stream",
       "stream": "stdout",
       "text": [
        "\r",
        " [-----------------59%--                ] 23617 of 40000 complete in 190.5 sec"
       ]
      },
      {
       "output_type": "stream",
       "stream": "stdout",
       "text": [
        "\r",
        " [-----------------59%--                ] 23688 of 40000 complete in 191.0 sec"
       ]
      },
      {
       "output_type": "stream",
       "stream": "stdout",
       "text": [
        "\r",
        " [-----------------59%--                ] 23758 of 40000 complete in 191.5 sec"
       ]
      },
      {
       "output_type": "stream",
       "stream": "stdout",
       "text": [
        "\r",
        " [-----------------59%--                ] 23827 of 40000 complete in 192.0 sec"
       ]
      },
      {
       "output_type": "stream",
       "stream": "stdout",
       "text": [
        "\r",
        " [-----------------59%--                ] 23898 of 40000 complete in 192.5 sec"
       ]
      },
      {
       "output_type": "stream",
       "stream": "stdout",
       "text": [
        "\r",
        " [-----------------59%--                ] 23969 of 40000 complete in 193.0 sec"
       ]
      },
      {
       "output_type": "stream",
       "stream": "stdout",
       "text": [
        "\r",
        " [-----------------60%--                ] 24043 of 40000 complete in 193.5 sec"
       ]
      },
      {
       "output_type": "stream",
       "stream": "stdout",
       "text": [
        "\r",
        " [-----------------60%--                ] 24115 of 40000 complete in 194.0 sec"
       ]
      },
      {
       "output_type": "stream",
       "stream": "stdout",
       "text": [
        "\r",
        " [-----------------60%--                ] 24189 of 40000 complete in 194.5 sec"
       ]
      },
      {
       "output_type": "stream",
       "stream": "stdout",
       "text": [
        "\r",
        " [-----------------60%---               ] 24258 of 40000 complete in 195.0 sec"
       ]
      },
      {
       "output_type": "stream",
       "stream": "stdout",
       "text": [
        "\r",
        " [-----------------60%---               ] 24328 of 40000 complete in 195.5 sec"
       ]
      },
      {
       "output_type": "stream",
       "stream": "stdout",
       "text": [
        "\r",
        " [-----------------60%---               ] 24396 of 40000 complete in 196.0 sec"
       ]
      },
      {
       "output_type": "stream",
       "stream": "stdout",
       "text": [
        "\r",
        " [-----------------61%---               ] 24466 of 40000 complete in 196.5 sec"
       ]
      },
      {
       "output_type": "stream",
       "stream": "stdout",
       "text": [
        "\r",
        " [-----------------61%---               ] 24535 of 40000 complete in 197.0 sec"
       ]
      },
      {
       "output_type": "stream",
       "stream": "stdout",
       "text": [
        "\r",
        " [-----------------61%---               ] 24606 of 40000 complete in 197.5 sec"
       ]
      },
      {
       "output_type": "stream",
       "stream": "stdout",
       "text": [
        "\r",
        " [-----------------61%---               ] 24676 of 40000 complete in 198.0 sec"
       ]
      },
      {
       "output_type": "stream",
       "stream": "stdout",
       "text": [
        "\r",
        " [-----------------61%---               ] 24749 of 40000 complete in 198.5 sec"
       ]
      },
      {
       "output_type": "stream",
       "stream": "stdout",
       "text": [
        "\r",
        " [-----------------62%---               ] 24821 of 40000 complete in 199.0 sec"
       ]
      },
      {
       "output_type": "stream",
       "stream": "stdout",
       "text": [
        "\r",
        " [-----------------62%---               ] 24895 of 40000 complete in 199.5 sec"
       ]
      },
      {
       "output_type": "stream",
       "stream": "stdout",
       "text": [
        "\r",
        " [-----------------62%---               ] 24969 of 40000 complete in 200.0 sec"
       ]
      },
      {
       "output_type": "stream",
       "stream": "stdout",
       "text": [
        "\r",
        " [-----------------62%---               ] 25043 of 40000 complete in 200.5 sec"
       ]
      },
      {
       "output_type": "stream",
       "stream": "stdout",
       "text": [
        "\r",
        " [-----------------62%---               ] 25116 of 40000 complete in 201.0 sec"
       ]
      },
      {
       "output_type": "stream",
       "stream": "stdout",
       "text": [
        "\r",
        " [-----------------62%---               ] 25191 of 40000 complete in 201.5 sec"
       ]
      },
      {
       "output_type": "stream",
       "stream": "stdout",
       "text": [
        "\r",
        " [-----------------63%----              ] 25267 of 40000 complete in 202.0 sec"
       ]
      },
      {
       "output_type": "stream",
       "stream": "stdout",
       "text": [
        "\r",
        " [-----------------63%----              ] 25338 of 40000 complete in 202.5 sec"
       ]
      },
      {
       "output_type": "stream",
       "stream": "stdout",
       "text": [
        "\r",
        " [-----------------63%----              ] 25414 of 40000 complete in 203.0 sec"
       ]
      },
      {
       "output_type": "stream",
       "stream": "stdout",
       "text": [
        "\r",
        " [-----------------63%----              ] 25492 of 40000 complete in 203.6 sec"
       ]
      },
      {
       "output_type": "stream",
       "stream": "stdout",
       "text": [
        "\r",
        " [-----------------63%----              ] 25565 of 40000 complete in 204.1 sec"
       ]
      },
      {
       "output_type": "stream",
       "stream": "stdout",
       "text": [
        "\r",
        " [-----------------64%----              ] 25640 of 40000 complete in 204.6 sec"
       ]
      },
      {
       "output_type": "stream",
       "stream": "stdout",
       "text": [
        "\r",
        " [-----------------64%----              ] 25713 of 40000 complete in 205.1 sec"
       ]
      },
      {
       "output_type": "stream",
       "stream": "stdout",
       "text": [
        "\r",
        " [-----------------64%----              ] 25785 of 40000 complete in 205.6 sec"
       ]
      },
      {
       "output_type": "stream",
       "stream": "stdout",
       "text": [
        "\r",
        " [-----------------64%----              ] 25859 of 40000 complete in 206.1 sec"
       ]
      },
      {
       "output_type": "stream",
       "stream": "stdout",
       "text": [
        "\r",
        " [-----------------64%----              ] 25925 of 40000 complete in 206.6 sec"
       ]
      },
      {
       "output_type": "stream",
       "stream": "stdout",
       "text": [
        "\r",
        " [-----------------64%----              ] 25988 of 40000 complete in 207.1 sec"
       ]
      },
      {
       "output_type": "stream",
       "stream": "stdout",
       "text": [
        "\r",
        " [-----------------65%----              ] 26057 of 40000 complete in 207.6 sec"
       ]
      },
      {
       "output_type": "stream",
       "stream": "stdout",
       "text": [
        "\r",
        " [-----------------65%----              ] 26129 of 40000 complete in 208.1 sec"
       ]
      },
      {
       "output_type": "stream",
       "stream": "stdout",
       "text": [
        "\r",
        " [-----------------65%----              ] 26200 of 40000 complete in 208.6 sec"
       ]
      },
      {
       "output_type": "stream",
       "stream": "stdout",
       "text": [
        "\r",
        " [-----------------65%----              ] 26268 of 40000 complete in 209.1 sec"
       ]
      },
      {
       "output_type": "stream",
       "stream": "stdout",
       "text": [
        "\r",
        " [-----------------65%-----             ] 26338 of 40000 complete in 209.6 sec"
       ]
      },
      {
       "output_type": "stream",
       "stream": "stdout",
       "text": [
        "\r",
        " [-----------------66%-----             ] 26412 of 40000 complete in 210.1 sec"
       ]
      },
      {
       "output_type": "stream",
       "stream": "stdout",
       "text": [
        "\r",
        " [-----------------66%-----             ] 26481 of 40000 complete in 210.6 sec"
       ]
      },
      {
       "output_type": "stream",
       "stream": "stdout",
       "text": [
        "\r",
        " [-----------------66%-----             ] 26551 of 40000 complete in 211.1 sec"
       ]
      },
      {
       "output_type": "stream",
       "stream": "stdout",
       "text": [
        "\r",
        " [-----------------66%-----             ] 26623 of 40000 complete in 211.6 sec"
       ]
      },
      {
       "output_type": "stream",
       "stream": "stdout",
       "text": [
        "\r",
        " [-----------------66%-----             ] 26692 of 40000 complete in 212.1 sec"
       ]
      },
      {
       "output_type": "stream",
       "stream": "stdout",
       "text": [
        "\r",
        " [-----------------66%-----             ] 26761 of 40000 complete in 212.6 sec"
       ]
      },
      {
       "output_type": "stream",
       "stream": "stdout",
       "text": [
        "\r",
        " [-----------------67%-----             ] 26830 of 40000 complete in 213.1 sec"
       ]
      },
      {
       "output_type": "stream",
       "stream": "stdout",
       "text": [
        "\r",
        " [-----------------67%-----             ] 26898 of 40000 complete in 213.6 sec"
       ]
      },
      {
       "output_type": "stream",
       "stream": "stdout",
       "text": [
        "\r",
        " [-----------------67%-----             ] 26964 of 40000 complete in 214.1 sec"
       ]
      },
      {
       "output_type": "stream",
       "stream": "stdout",
       "text": [
        "\r",
        " [-----------------67%-----             ] 27033 of 40000 complete in 214.6 sec"
       ]
      },
      {
       "output_type": "stream",
       "stream": "stdout",
       "text": [
        "\r",
        " [-----------------67%-----             ] 27104 of 40000 complete in 215.1 sec"
       ]
      },
      {
       "output_type": "stream",
       "stream": "stdout",
       "text": [
        "\r",
        " [-----------------67%-----             ] 27174 of 40000 complete in 215.6 sec"
       ]
      },
      {
       "output_type": "stream",
       "stream": "stdout",
       "text": [
        "\r",
        " [-----------------68%-----             ] 27245 of 40000 complete in 216.2 sec"
       ]
      },
      {
       "output_type": "stream",
       "stream": "stdout",
       "text": [
        "\r",
        " [-----------------68%-----             ] 27314 of 40000 complete in 216.7 sec"
       ]
      },
      {
       "output_type": "stream",
       "stream": "stdout",
       "text": [
        "\r",
        " [-----------------68%------            ] 27381 of 40000 complete in 217.2 sec"
       ]
      },
      {
       "output_type": "stream",
       "stream": "stdout",
       "text": [
        "\r",
        " [-----------------68%------            ] 27450 of 40000 complete in 217.7 sec"
       ]
      },
      {
       "output_type": "stream",
       "stream": "stdout",
       "text": [
        "\r",
        " [-----------------68%------            ] 27513 of 40000 complete in 218.2 sec"
       ]
      },
      {
       "output_type": "stream",
       "stream": "stdout",
       "text": [
        "\r",
        " [-----------------68%------            ] 27570 of 40000 complete in 218.7 sec"
       ]
      },
      {
       "output_type": "stream",
       "stream": "stdout",
       "text": [
        "\r",
        " [-----------------69%------            ] 27628 of 40000 complete in 219.2 sec"
       ]
      },
      {
       "output_type": "stream",
       "stream": "stdout",
       "text": [
        "\r",
        " [-----------------69%------            ] 27686 of 40000 complete in 219.7 sec"
       ]
      },
      {
       "output_type": "stream",
       "stream": "stdout",
       "text": [
        "\r",
        " [-----------------69%------            ] 27743 of 40000 complete in 220.2 sec"
       ]
      },
      {
       "output_type": "stream",
       "stream": "stdout",
       "text": [
        "\r",
        " [-----------------69%------            ] 27802 of 40000 complete in 220.7 sec"
       ]
      },
      {
       "output_type": "stream",
       "stream": "stdout",
       "text": [
        "\r",
        " [-----------------69%------            ] 27859 of 40000 complete in 221.2 sec"
       ]
      },
      {
       "output_type": "stream",
       "stream": "stdout",
       "text": [
        "\r",
        " [-----------------69%------            ] 27916 of 40000 complete in 221.7 sec"
       ]
      },
      {
       "output_type": "stream",
       "stream": "stdout",
       "text": [
        "\r",
        " [-----------------69%------            ] 27974 of 40000 complete in 222.2 sec"
       ]
      },
      {
       "output_type": "stream",
       "stream": "stdout",
       "text": [
        "\r",
        " [-----------------70%------            ] 28036 of 40000 complete in 222.7 sec"
       ]
      },
      {
       "output_type": "stream",
       "stream": "stdout",
       "text": [
        "\r",
        " [-----------------70%------            ] 28100 of 40000 complete in 223.2 sec"
       ]
      },
      {
       "output_type": "stream",
       "stream": "stdout",
       "text": [
        "\r",
        " [-----------------70%------            ] 28163 of 40000 complete in 223.7 sec"
       ]
      },
      {
       "output_type": "stream",
       "stream": "stdout",
       "text": [
        "\r",
        " [-----------------70%------            ] 28227 of 40000 complete in 224.2 sec"
       ]
      },
      {
       "output_type": "stream",
       "stream": "stdout",
       "text": [
        "\r",
        " [-----------------70%------            ] 28294 of 40000 complete in 224.7 sec"
       ]
      },
      {
       "output_type": "stream",
       "stream": "stdout",
       "text": [
        "\r",
        " [-----------------70%------            ] 28359 of 40000 complete in 225.2 sec"
       ]
      },
      {
       "output_type": "stream",
       "stream": "stdout",
       "text": [
        "\r",
        " [-----------------71%-------           ] 28432 of 40000 complete in 225.7 sec"
       ]
      },
      {
       "output_type": "stream",
       "stream": "stdout",
       "text": [
        "\r",
        " [-----------------71%-------           ] 28506 of 40000 complete in 226.2 sec"
       ]
      },
      {
       "output_type": "stream",
       "stream": "stdout",
       "text": [
        "\r",
        " [-----------------71%-------           ] 28582 of 40000 complete in 226.7 sec"
       ]
      },
      {
       "output_type": "stream",
       "stream": "stdout",
       "text": [
        "\r",
        " [-----------------71%-------           ] 28654 of 40000 complete in 227.2 sec"
       ]
      },
      {
       "output_type": "stream",
       "stream": "stdout",
       "text": [
        "\r",
        " [-----------------71%-------           ] 28726 of 40000 complete in 227.7 sec"
       ]
      },
      {
       "output_type": "stream",
       "stream": "stdout",
       "text": [
        "\r",
        " [-----------------72%-------           ] 28800 of 40000 complete in 228.2 sec"
       ]
      },
      {
       "output_type": "stream",
       "stream": "stdout",
       "text": [
        "\r",
        " [-----------------72%-------           ] 28870 of 40000 complete in 228.7 sec"
       ]
      },
      {
       "output_type": "stream",
       "stream": "stdout",
       "text": [
        "\r",
        " [-----------------72%-------           ] 28940 of 40000 complete in 229.2 sec"
       ]
      },
      {
       "output_type": "stream",
       "stream": "stdout",
       "text": [
        "\r",
        " [-----------------72%-------           ] 29014 of 40000 complete in 229.8 sec"
       ]
      },
      {
       "output_type": "stream",
       "stream": "stdout",
       "text": [
        "\r",
        " [-----------------72%-------           ] 29088 of 40000 complete in 230.3 sec"
       ]
      },
      {
       "output_type": "stream",
       "stream": "stdout",
       "text": [
        "\r",
        " [-----------------72%-------           ] 29163 of 40000 complete in 230.8 sec"
       ]
      },
      {
       "output_type": "stream",
       "stream": "stdout",
       "text": [
        "\r",
        " [-----------------73%-------           ] 29235 of 40000 complete in 231.3 sec"
       ]
      },
      {
       "output_type": "stream",
       "stream": "stdout",
       "text": [
        "\r",
        " [-----------------73%-------           ] 29308 of 40000 complete in 231.8 sec"
       ]
      },
      {
       "output_type": "stream",
       "stream": "stdout",
       "text": [
        "\r",
        " [-----------------73%-------           ] 29379 of 40000 complete in 232.3 sec"
       ]
      },
      {
       "output_type": "stream",
       "stream": "stdout",
       "text": [
        "\r",
        " [-----------------73%-------           ] 29452 of 40000 complete in 232.8 sec"
       ]
      },
      {
       "output_type": "stream",
       "stream": "stdout",
       "text": [
        "\r",
        " [-----------------73%--------          ] 29523 of 40000 complete in 233.3 sec"
       ]
      },
      {
       "output_type": "stream",
       "stream": "stdout",
       "text": [
        "\r",
        " [-----------------73%--------          ] 29593 of 40000 complete in 233.8 sec"
       ]
      },
      {
       "output_type": "stream",
       "stream": "stdout",
       "text": [
        "\r",
        " [-----------------74%--------          ] 29665 of 40000 complete in 234.3 sec"
       ]
      },
      {
       "output_type": "stream",
       "stream": "stdout",
       "text": [
        "\r",
        " [-----------------74%--------          ] 29734 of 40000 complete in 234.8 sec"
       ]
      },
      {
       "output_type": "stream",
       "stream": "stdout",
       "text": [
        "\r",
        " [-----------------74%--------          ] 29807 of 40000 complete in 235.3 sec"
       ]
      },
      {
       "output_type": "stream",
       "stream": "stdout",
       "text": [
        "\r",
        " [-----------------74%--------          ] 29876 of 40000 complete in 235.8 sec"
       ]
      },
      {
       "output_type": "stream",
       "stream": "stdout",
       "text": [
        "\r",
        " [-----------------74%--------          ] 29943 of 40000 complete in 236.3 sec"
       ]
      },
      {
       "output_type": "stream",
       "stream": "stdout",
       "text": [
        "\r",
        " [-----------------75%--------          ] 30012 of 40000 complete in 236.8 sec"
       ]
      },
      {
       "output_type": "stream",
       "stream": "stdout",
       "text": [
        "\r",
        " [-----------------75%--------          ] 30084 of 40000 complete in 237.3 sec"
       ]
      },
      {
       "output_type": "stream",
       "stream": "stdout",
       "text": [
        "\r",
        " [-----------------75%--------          ] 30157 of 40000 complete in 237.8 sec"
       ]
      },
      {
       "output_type": "stream",
       "stream": "stdout",
       "text": [
        "\r",
        " [-----------------75%--------          ] 30224 of 40000 complete in 238.3 sec"
       ]
      },
      {
       "output_type": "stream",
       "stream": "stdout",
       "text": [
        "\r",
        " [-----------------75%--------          ] 30291 of 40000 complete in 238.8 sec"
       ]
      },
      {
       "output_type": "stream",
       "stream": "stdout",
       "text": [
        "\r",
        " [-----------------75%--------          ] 30364 of 40000 complete in 239.3 sec"
       ]
      },
      {
       "output_type": "stream",
       "stream": "stdout",
       "text": [
        "\r",
        " [-----------------76%--------          ] 30434 of 40000 complete in 239.8 sec"
       ]
      },
      {
       "output_type": "stream",
       "stream": "stdout",
       "text": [
        "\r",
        " [-----------------76%--------          ] 30504 of 40000 complete in 240.3 sec"
       ]
      },
      {
       "output_type": "stream",
       "stream": "stdout",
       "text": [
        "\r",
        " [-----------------76%---------         ] 30573 of 40000 complete in 240.8 sec"
       ]
      },
      {
       "output_type": "stream",
       "stream": "stdout",
       "text": [
        "\r",
        " [-----------------76%---------         ] 30645 of 40000 complete in 241.3 sec"
       ]
      },
      {
       "output_type": "stream",
       "stream": "stdout",
       "text": [
        "\r",
        " [-----------------76%---------         ] 30715 of 40000 complete in 241.8 sec"
       ]
      },
      {
       "output_type": "stream",
       "stream": "stdout",
       "text": [
        "\r",
        " [-----------------76%---------         ] 30784 of 40000 complete in 242.3 sec"
       ]
      },
      {
       "output_type": "stream",
       "stream": "stdout",
       "text": [
        "\r",
        " [-----------------77%---------         ] 30851 of 40000 complete in 242.9 sec"
       ]
      },
      {
       "output_type": "stream",
       "stream": "stdout",
       "text": [
        "\r",
        " [-----------------77%---------         ] 30924 of 40000 complete in 243.4 sec"
       ]
      },
      {
       "output_type": "stream",
       "stream": "stdout",
       "text": [
        "\r",
        " [-----------------77%---------         ] 30993 of 40000 complete in 243.9 sec"
       ]
      },
      {
       "output_type": "stream",
       "stream": "stdout",
       "text": [
        "\r",
        " [-----------------77%---------         ] 31066 of 40000 complete in 244.4 sec"
       ]
      },
      {
       "output_type": "stream",
       "stream": "stdout",
       "text": [
        "\r",
        " [-----------------77%---------         ] 31139 of 40000 complete in 244.9 sec"
       ]
      },
      {
       "output_type": "stream",
       "stream": "stdout",
       "text": [
        "\r",
        " [-----------------78%---------         ] 31212 of 40000 complete in 245.4 sec"
       ]
      },
      {
       "output_type": "stream",
       "stream": "stdout",
       "text": [
        "\r",
        " [-----------------78%---------         ] 31283 of 40000 complete in 245.9 sec"
       ]
      },
      {
       "output_type": "stream",
       "stream": "stdout",
       "text": [
        "\r",
        " [-----------------78%---------         ] 31351 of 40000 complete in 246.4 sec"
       ]
      },
      {
       "output_type": "stream",
       "stream": "stdout",
       "text": [
        "\r",
        " [-----------------78%---------         ] 31420 of 40000 complete in 246.9 sec"
       ]
      },
      {
       "output_type": "stream",
       "stream": "stdout",
       "text": [
        "\r",
        " [-----------------78%---------         ] 31489 of 40000 complete in 247.4 sec"
       ]
      },
      {
       "output_type": "stream",
       "stream": "stdout",
       "text": [
        "\r",
        " [-----------------78%---------         ] 31555 of 40000 complete in 247.9 sec"
       ]
      },
      {
       "output_type": "stream",
       "stream": "stdout",
       "text": [
        "\r",
        " [-----------------79%----------        ] 31624 of 40000 complete in 248.4 sec"
       ]
      },
      {
       "output_type": "stream",
       "stream": "stdout",
       "text": [
        "\r",
        " [-----------------79%----------        ] 31688 of 40000 complete in 248.9 sec"
       ]
      },
      {
       "output_type": "stream",
       "stream": "stdout",
       "text": [
        "\r",
        " [-----------------79%----------        ] 31754 of 40000 complete in 249.4 sec"
       ]
      },
      {
       "output_type": "stream",
       "stream": "stdout",
       "text": [
        "\r",
        " [-----------------79%----------        ] 31817 of 40000 complete in 249.9 sec"
       ]
      },
      {
       "output_type": "stream",
       "stream": "stdout",
       "text": [
        "\r",
        " [-----------------79%----------        ] 31879 of 40000 complete in 250.4 sec"
       ]
      },
      {
       "output_type": "stream",
       "stream": "stdout",
       "text": [
        "\r",
        " [-----------------79%----------        ] 31942 of 40000 complete in 250.9 sec"
       ]
      },
      {
       "output_type": "stream",
       "stream": "stdout",
       "text": [
        "\r",
        " [-----------------80%----------        ] 32003 of 40000 complete in 251.4 sec"
       ]
      },
      {
       "output_type": "stream",
       "stream": "stdout",
       "text": [
        "\r",
        " [-----------------80%----------        ] 32074 of 40000 complete in 251.9 sec"
       ]
      },
      {
       "output_type": "stream",
       "stream": "stdout",
       "text": [
        "\r",
        " [-----------------80%----------        ] 32142 of 40000 complete in 252.4 sec"
       ]
      },
      {
       "output_type": "stream",
       "stream": "stdout",
       "text": [
        "\r",
        " [-----------------80%----------        ] 32213 of 40000 complete in 253.0 sec"
       ]
      },
      {
       "output_type": "stream",
       "stream": "stdout",
       "text": [
        "\r",
        " [-----------------80%----------        ] 32282 of 40000 complete in 253.5 sec"
       ]
      },
      {
       "output_type": "stream",
       "stream": "stdout",
       "text": [
        "\r",
        " [-----------------80%----------        ] 32353 of 40000 complete in 254.0 sec"
       ]
      },
      {
       "output_type": "stream",
       "stream": "stdout",
       "text": [
        "\r",
        " [-----------------81%----------        ] 32424 of 40000 complete in 254.5 sec"
       ]
      },
      {
       "output_type": "stream",
       "stream": "stdout",
       "text": [
        "\r",
        " [-----------------81%----------        ] 32492 of 40000 complete in 255.0 sec"
       ]
      },
      {
       "output_type": "stream",
       "stream": "stdout",
       "text": [
        "\r",
        " [-----------------81%----------        ] 32562 of 40000 complete in 255.5 sec"
       ]
      },
      {
       "output_type": "stream",
       "stream": "stdout",
       "text": [
        "\r",
        " [-----------------81%-----------       ] 32634 of 40000 complete in 256.0 sec"
       ]
      },
      {
       "output_type": "stream",
       "stream": "stdout",
       "text": [
        "\r",
        " [-----------------81%-----------       ] 32708 of 40000 complete in 256.5 sec"
       ]
      },
      {
       "output_type": "stream",
       "stream": "stdout",
       "text": [
        "\r",
        " [-----------------81%-----------       ] 32781 of 40000 complete in 257.0 sec"
       ]
      },
      {
       "output_type": "stream",
       "stream": "stdout",
       "text": [
        "\r",
        " [-----------------82%-----------       ] 32848 of 40000 complete in 257.5 sec"
       ]
      },
      {
       "output_type": "stream",
       "stream": "stdout",
       "text": [
        "\r",
        " [-----------------82%-----------       ] 32915 of 40000 complete in 258.0 sec"
       ]
      },
      {
       "output_type": "stream",
       "stream": "stdout",
       "text": [
        "\r",
        " [-----------------82%-----------       ] 32985 of 40000 complete in 258.5 sec"
       ]
      },
      {
       "output_type": "stream",
       "stream": "stdout",
       "text": [
        "\r",
        " [-----------------82%-----------       ] 33055 of 40000 complete in 259.0 sec"
       ]
      },
      {
       "output_type": "stream",
       "stream": "stdout",
       "text": [
        "\r",
        " [-----------------82%-----------       ] 33126 of 40000 complete in 259.5 sec"
       ]
      },
      {
       "output_type": "stream",
       "stream": "stdout",
       "text": [
        "\r",
        " [-----------------82%-----------       ] 33195 of 40000 complete in 260.0 sec"
       ]
      },
      {
       "output_type": "stream",
       "stream": "stdout",
       "text": [
        "\r",
        " [-----------------83%-----------       ] 33268 of 40000 complete in 260.5 sec"
       ]
      },
      {
       "output_type": "stream",
       "stream": "stdout",
       "text": [
        "\r",
        " [-----------------83%-----------       ] 33341 of 40000 complete in 261.0 sec"
       ]
      },
      {
       "output_type": "stream",
       "stream": "stdout",
       "text": [
        "\r",
        " [-----------------83%-----------       ] 33413 of 40000 complete in 261.5 sec"
       ]
      },
      {
       "output_type": "stream",
       "stream": "stdout",
       "text": [
        "\r",
        " [-----------------83%-----------       ] 33489 of 40000 complete in 262.0 sec"
       ]
      },
      {
       "output_type": "stream",
       "stream": "stdout",
       "text": [
        "\r",
        " [-----------------83%-----------       ] 33561 of 40000 complete in 262.5 sec"
       ]
      },
      {
       "output_type": "stream",
       "stream": "stdout",
       "text": [
        "\r",
        " [-----------------84%-----------       ] 33632 of 40000 complete in 263.0 sec"
       ]
      },
      {
       "output_type": "stream",
       "stream": "stdout",
       "text": [
        "\r",
        " [-----------------84%------------      ] 33704 of 40000 complete in 263.5 sec"
       ]
      },
      {
       "output_type": "stream",
       "stream": "stdout",
       "text": [
        "\r",
        " [-----------------84%------------      ] 33778 of 40000 complete in 264.0 sec"
       ]
      },
      {
       "output_type": "stream",
       "stream": "stdout",
       "text": [
        "\r",
        " [-----------------84%------------      ] 33852 of 40000 complete in 264.5 sec"
       ]
      },
      {
       "output_type": "stream",
       "stream": "stdout",
       "text": [
        "\r",
        " [-----------------84%------------      ] 33927 of 40000 complete in 265.0 sec"
       ]
      },
      {
       "output_type": "stream",
       "stream": "stdout",
       "text": [
        "\r",
        " [-----------------85%------------      ] 34003 of 40000 complete in 265.5 sec"
       ]
      },
      {
       "output_type": "stream",
       "stream": "stdout",
       "text": [
        "\r",
        " [-----------------85%------------      ] 34076 of 40000 complete in 266.0 sec"
       ]
      },
      {
       "output_type": "stream",
       "stream": "stdout",
       "text": [
        "\r",
        " [-----------------85%------------      ] 34146 of 40000 complete in 266.5 sec"
       ]
      },
      {
       "output_type": "stream",
       "stream": "stdout",
       "text": [
        "\r",
        " [-----------------85%------------      ] 34219 of 40000 complete in 267.0 sec"
       ]
      },
      {
       "output_type": "stream",
       "stream": "stdout",
       "text": [
        "\r",
        " [-----------------85%------------      ] 34289 of 40000 complete in 267.5 sec"
       ]
      },
      {
       "output_type": "stream",
       "stream": "stdout",
       "text": [
        "\r",
        " [-----------------85%------------      ] 34359 of 40000 complete in 268.0 sec"
       ]
      },
      {
       "output_type": "stream",
       "stream": "stdout",
       "text": [
        "\r",
        " [-----------------86%------------      ] 34431 of 40000 complete in 268.5 sec"
       ]
      },
      {
       "output_type": "stream",
       "stream": "stdout",
       "text": [
        "\r",
        " [-----------------86%------------      ] 34500 of 40000 complete in 269.0 sec"
       ]
      },
      {
       "output_type": "stream",
       "stream": "stdout",
       "text": [
        "\r",
        " [-----------------86%------------      ] 34572 of 40000 complete in 269.5 sec"
       ]
      },
      {
       "output_type": "stream",
       "stream": "stdout",
       "text": [
        "\r",
        " [-----------------86%------------      ] 34646 of 40000 complete in 270.1 sec"
       ]
      },
      {
       "output_type": "stream",
       "stream": "stdout",
       "text": [
        "\r",
        " [-----------------86%------------      ] 34719 of 40000 complete in 270.6 sec"
       ]
      },
      {
       "output_type": "stream",
       "stream": "stdout",
       "text": [
        "\r",
        " [-----------------86%-------------     ] 34793 of 40000 complete in 271.1 sec"
       ]
      },
      {
       "output_type": "stream",
       "stream": "stdout",
       "text": [
        "\r",
        " [-----------------87%-------------     ] 34867 of 40000 complete in 271.6 sec"
       ]
      },
      {
       "output_type": "stream",
       "stream": "stdout",
       "text": [
        "\r",
        " [-----------------87%-------------     ] 34937 of 40000 complete in 272.1 sec"
       ]
      },
      {
       "output_type": "stream",
       "stream": "stdout",
       "text": [
        "\r",
        " [-----------------87%-------------     ] 35014 of 40000 complete in 272.6 sec"
       ]
      },
      {
       "output_type": "stream",
       "stream": "stdout",
       "text": [
        "\r",
        " [-----------------87%-------------     ] 35091 of 40000 complete in 273.1 sec"
       ]
      },
      {
       "output_type": "stream",
       "stream": "stdout",
       "text": [
        "\r",
        " [-----------------87%-------------     ] 35166 of 40000 complete in 273.6 sec"
       ]
      },
      {
       "output_type": "stream",
       "stream": "stdout",
       "text": [
        "\r",
        " [-----------------88%-------------     ] 35241 of 40000 complete in 274.1 sec"
       ]
      },
      {
       "output_type": "stream",
       "stream": "stdout",
       "text": [
        "\r",
        " [-----------------88%-------------     ] 35317 of 40000 complete in 274.6 sec"
       ]
      },
      {
       "output_type": "stream",
       "stream": "stdout",
       "text": [
        "\r",
        " [-----------------88%-------------     ] 35393 of 40000 complete in 275.1 sec"
       ]
      },
      {
       "output_type": "stream",
       "stream": "stdout",
       "text": [
        "\r",
        " [-----------------88%-------------     ] 35466 of 40000 complete in 275.6 sec"
       ]
      },
      {
       "output_type": "stream",
       "stream": "stdout",
       "text": [
        "\r",
        " [-----------------88%-------------     ] 35539 of 40000 complete in 276.1 sec"
       ]
      },
      {
       "output_type": "stream",
       "stream": "stdout",
       "text": [
        "\r",
        " [-----------------89%-------------     ] 35611 of 40000 complete in 276.6 sec"
       ]
      },
      {
       "output_type": "stream",
       "stream": "stdout",
       "text": [
        "\r",
        " [-----------------89%-------------     ] 35684 of 40000 complete in 277.1 sec"
       ]
      },
      {
       "output_type": "stream",
       "stream": "stdout",
       "text": [
        "\r",
        " [-----------------89%-------------     ] 35756 of 40000 complete in 277.6 sec"
       ]
      },
      {
       "output_type": "stream",
       "stream": "stdout",
       "text": [
        "\r",
        " [-----------------89%--------------    ] 35828 of 40000 complete in 278.1 sec"
       ]
      },
      {
       "output_type": "stream",
       "stream": "stdout",
       "text": [
        "\r",
        " [-----------------89%--------------    ] 35899 of 40000 complete in 278.6 sec"
       ]
      },
      {
       "output_type": "stream",
       "stream": "stdout",
       "text": [
        "\r",
        " [-----------------89%--------------    ] 35973 of 40000 complete in 279.1 sec"
       ]
      },
      {
       "output_type": "stream",
       "stream": "stdout",
       "text": [
        "\r",
        " [-----------------90%--------------    ] 36049 of 40000 complete in 279.6 sec"
       ]
      },
      {
       "output_type": "stream",
       "stream": "stdout",
       "text": [
        "\r",
        " [-----------------90%--------------    ] 36120 of 40000 complete in 280.1 sec"
       ]
      },
      {
       "output_type": "stream",
       "stream": "stdout",
       "text": [
        "\r",
        " [-----------------90%--------------    ] 36197 of 40000 complete in 280.6 sec"
       ]
      },
      {
       "output_type": "stream",
       "stream": "stdout",
       "text": [
        "\r",
        " [-----------------90%--------------    ] 36271 of 40000 complete in 281.1 sec"
       ]
      },
      {
       "output_type": "stream",
       "stream": "stdout",
       "text": [
        "\r",
        " [-----------------90%--------------    ] 36347 of 40000 complete in 281.6 sec"
       ]
      },
      {
       "output_type": "stream",
       "stream": "stdout",
       "text": [
        "\r",
        " [-----------------91%--------------    ] 36422 of 40000 complete in 282.1 sec"
       ]
      },
      {
       "output_type": "stream",
       "stream": "stdout",
       "text": [
        "\r",
        " [-----------------91%--------------    ] 36497 of 40000 complete in 282.6 sec"
       ]
      },
      {
       "output_type": "stream",
       "stream": "stdout",
       "text": [
        "\r",
        " [-----------------91%--------------    ] 36570 of 40000 complete in 283.1 sec"
       ]
      },
      {
       "output_type": "stream",
       "stream": "stdout",
       "text": [
        "\r",
        " [-----------------91%--------------    ] 36646 of 40000 complete in 283.7 sec"
       ]
      },
      {
       "output_type": "stream",
       "stream": "stdout",
       "text": [
        "\r",
        " [-----------------91%--------------    ] 36719 of 40000 complete in 284.2 sec"
       ]
      },
      {
       "output_type": "stream",
       "stream": "stdout",
       "text": [
        "\r",
        " [-----------------91%--------------    ] 36794 of 40000 complete in 284.7 sec"
       ]
      },
      {
       "output_type": "stream",
       "stream": "stdout",
       "text": [
        "\r",
        " [-----------------92%---------------   ] 36865 of 40000 complete in 285.2 sec"
       ]
      },
      {
       "output_type": "stream",
       "stream": "stdout",
       "text": [
        "\r",
        " [-----------------92%---------------   ] 36936 of 40000 complete in 285.7 sec"
       ]
      },
      {
       "output_type": "stream",
       "stream": "stdout",
       "text": [
        "\r",
        " [-----------------92%---------------   ] 37004 of 40000 complete in 286.2 sec"
       ]
      },
      {
       "output_type": "stream",
       "stream": "stdout",
       "text": [
        "\r",
        " [-----------------92%---------------   ] 37074 of 40000 complete in 286.7 sec"
       ]
      },
      {
       "output_type": "stream",
       "stream": "stdout",
       "text": [
        "\r",
        " [-----------------92%---------------   ] 37145 of 40000 complete in 287.2 sec"
       ]
      },
      {
       "output_type": "stream",
       "stream": "stdout",
       "text": [
        "\r",
        " [-----------------93%---------------   ] 37216 of 40000 complete in 287.7 sec"
       ]
      },
      {
       "output_type": "stream",
       "stream": "stdout",
       "text": [
        "\r",
        " [-----------------93%---------------   ] 37285 of 40000 complete in 288.2 sec"
       ]
      },
      {
       "output_type": "stream",
       "stream": "stdout",
       "text": [
        "\r",
        " [-----------------93%---------------   ] 37355 of 40000 complete in 288.7 sec"
       ]
      },
      {
       "output_type": "stream",
       "stream": "stdout",
       "text": [
        "\r",
        " [-----------------93%---------------   ] 37426 of 40000 complete in 289.2 sec"
       ]
      },
      {
       "output_type": "stream",
       "stream": "stdout",
       "text": [
        "\r",
        " [-----------------93%---------------   ] 37494 of 40000 complete in 289.7 sec"
       ]
      },
      {
       "output_type": "stream",
       "stream": "stdout",
       "text": [
        "\r",
        " [-----------------93%---------------   ] 37564 of 40000 complete in 290.2 sec"
       ]
      },
      {
       "output_type": "stream",
       "stream": "stdout",
       "text": [
        "\r",
        " [-----------------94%---------------   ] 37634 of 40000 complete in 290.7 sec"
       ]
      },
      {
       "output_type": "stream",
       "stream": "stdout",
       "text": [
        "\r",
        " [-----------------94%---------------   ] 37706 of 40000 complete in 291.2 sec"
       ]
      },
      {
       "output_type": "stream",
       "stream": "stdout",
       "text": [
        "\r",
        " [-----------------94%---------------   ] 37775 of 40000 complete in 291.7 sec"
       ]
      },
      {
       "output_type": "stream",
       "stream": "stdout",
       "text": [
        "\r",
        " [-----------------94%---------------   ] 37840 of 40000 complete in 292.2 sec"
       ]
      },
      {
       "output_type": "stream",
       "stream": "stdout",
       "text": [
        "\r",
        " [-----------------94%----------------  ] 37909 of 40000 complete in 292.7 sec"
       ]
      },
      {
       "output_type": "stream",
       "stream": "stdout",
       "text": [
        "\r",
        " [-----------------94%----------------  ] 37977 of 40000 complete in 293.2 sec"
       ]
      },
      {
       "output_type": "stream",
       "stream": "stdout",
       "text": [
        "\r",
        " [-----------------95%----------------  ] 38048 of 40000 complete in 293.7 sec"
       ]
      },
      {
       "output_type": "stream",
       "stream": "stdout",
       "text": [
        "\r",
        " [-----------------95%----------------  ] 38117 of 40000 complete in 294.2 sec"
       ]
      },
      {
       "output_type": "stream",
       "stream": "stdout",
       "text": [
        "\r",
        " [-----------------95%----------------  ] 38192 of 40000 complete in 294.7 sec"
       ]
      },
      {
       "output_type": "stream",
       "stream": "stdout",
       "text": [
        "\r",
        " [-----------------95%----------------  ] 38262 of 40000 complete in 295.2 sec"
       ]
      },
      {
       "output_type": "stream",
       "stream": "stdout",
       "text": [
        "\r",
        " [-----------------95%----------------  ] 38333 of 40000 complete in 295.7 sec"
       ]
      },
      {
       "output_type": "stream",
       "stream": "stdout",
       "text": [
        "\r",
        " [-----------------96%----------------  ] 38401 of 40000 complete in 296.2 sec"
       ]
      },
      {
       "output_type": "stream",
       "stream": "stdout",
       "text": [
        "\r",
        " [-----------------96%----------------  ] 38473 of 40000 complete in 296.8 sec"
       ]
      },
      {
       "output_type": "stream",
       "stream": "stdout",
       "text": [
        "\r",
        " [-----------------96%----------------  ] 38546 of 40000 complete in 297.3 sec"
       ]
      },
      {
       "output_type": "stream",
       "stream": "stdout",
       "text": [
        "\r",
        " [-----------------96%----------------  ] 38618 of 40000 complete in 297.8 sec"
       ]
      },
      {
       "output_type": "stream",
       "stream": "stdout",
       "text": [
        "\r",
        " [-----------------96%----------------  ] 38692 of 40000 complete in 298.3 sec"
       ]
      },
      {
       "output_type": "stream",
       "stream": "stdout",
       "text": [
        "\r",
        " [-----------------96%----------------  ] 38765 of 40000 complete in 298.8 sec"
       ]
      },
      {
       "output_type": "stream",
       "stream": "stdout",
       "text": [
        "\r",
        " [-----------------97%----------------  ] 38834 of 40000 complete in 299.3 sec"
       ]
      },
      {
       "output_type": "stream",
       "stream": "stdout",
       "text": [
        "\r",
        " [-----------------97%----------------  ] 38901 of 40000 complete in 299.8 sec"
       ]
      },
      {
       "output_type": "stream",
       "stream": "stdout",
       "text": [
        "\r",
        " [-----------------97%----------------- ] 38971 of 40000 complete in 300.3 sec"
       ]
      },
      {
       "output_type": "stream",
       "stream": "stdout",
       "text": [
        "\r",
        " [-----------------97%----------------- ] 39044 of 40000 complete in 300.8 sec"
       ]
      },
      {
       "output_type": "stream",
       "stream": "stdout",
       "text": [
        "\r",
        " [-----------------97%----------------- ] 39114 of 40000 complete in 301.3 sec"
       ]
      },
      {
       "output_type": "stream",
       "stream": "stdout",
       "text": [
        "\r",
        " [-----------------97%----------------- ] 39183 of 40000 complete in 301.8 sec"
       ]
      },
      {
       "output_type": "stream",
       "stream": "stdout",
       "text": [
        "\r",
        " [-----------------98%----------------- ] 39254 of 40000 complete in 302.3 sec"
       ]
      },
      {
       "output_type": "stream",
       "stream": "stdout",
       "text": [
        "\r",
        " [-----------------98%----------------- ] 39322 of 40000 complete in 302.8 sec"
       ]
      },
      {
       "output_type": "stream",
       "stream": "stdout",
       "text": [
        "\r",
        " [-----------------98%----------------- ] 39388 of 40000 complete in 303.3 sec"
       ]
      },
      {
       "output_type": "stream",
       "stream": "stdout",
       "text": [
        "\r",
        " [-----------------98%----------------- ] 39455 of 40000 complete in 303.8 sec"
       ]
      },
      {
       "output_type": "stream",
       "stream": "stdout",
       "text": [
        "\r",
        " [-----------------98%----------------- ] 39521 of 40000 complete in 304.3 sec"
       ]
      },
      {
       "output_type": "stream",
       "stream": "stdout",
       "text": [
        "\r",
        " [-----------------98%----------------- ] 39588 of 40000 complete in 304.8 sec"
       ]
      },
      {
       "output_type": "stream",
       "stream": "stdout",
       "text": [
        "\r",
        " [-----------------99%----------------- ] 39656 of 40000 complete in 305.3 sec"
       ]
      },
      {
       "output_type": "stream",
       "stream": "stdout",
       "text": [
        "\r",
        " [-----------------99%----------------- ] 39725 of 40000 complete in 305.8 sec"
       ]
      },
      {
       "output_type": "stream",
       "stream": "stdout",
       "text": [
        "\r",
        " [-----------------99%----------------- ] 39795 of 40000 complete in 306.3 sec"
       ]
      },
      {
       "output_type": "stream",
       "stream": "stdout",
       "text": [
        "\r",
        " [-----------------99%----------------- ] 39866 of 40000 complete in 306.8 sec"
       ]
      },
      {
       "output_type": "stream",
       "stream": "stdout",
       "text": [
        "\r",
        " [-----------------99%----------------- ] 39938 of 40000 complete in 307.3 sec"
       ]
      },
      {
       "output_type": "stream",
       "stream": "stdout",
       "text": [
        "\r",
        " [-----------------100%-----------------] 40000 of 40000 complete in 307.8 sec"
       ]
      }
     ],
     "prompt_number": 8
    },
    {
     "cell_type": "code",
     "collapsed": false,
     "input": [
      "home_theta.value"
     ],
     "language": "python",
     "metadata": {},
     "outputs": [
      {
       "metadata": {},
       "output_type": "pyout",
       "prompt_number": 9,
       "text": [
        "[1.3871224568138907,\n",
        " 1.3871268853820082,\n",
        " 1.3871238347577335,\n",
        " 1.3871202276169625,\n",
        " 1.387123460278902,\n",
        " 1.387120081643465,\n",
        " 1.3871173368325802,\n",
        " 1.387128759251691,\n",
        " 1.3871209501807529,\n",
        " 1.3871211028124188,\n",
        " 1.3871229424682445,\n",
        " 1.3871203848843592,\n",
        " 1.3871189578395795,\n",
        " 1.3871210112940395,\n",
        " 1.3871268206644412,\n",
        " 1.3871220015867647,\n",
        " 0.9221565427564413,\n",
        " 1.3871232755964278,\n",
        " 1.3871238093756524,\n",
        " 1.3871246535410842,\n",
        " 1.3871210463981838,\n",
        " 1.3871242790620315,\n",
        " 1.3871209004246001,\n",
        " 1.3871181556120953,\n",
        " 1.3871295780379485,\n",
        " 1.3871217689624007,\n",
        " 1.3871219215941568,\n",
        " 1.3871237612510685,\n",
        " 1.3871212036656735,\n",
        " 1.3871197766200514,\n",
        " 1.3871218300757233,\n",
        " 1.3871276394495542,\n",
        " 1.3871228203690333,\n",
        " 0.9221570870816161,\n",
        " 1.3871247923400638,\n",
        " 1.3871253261198722,\n",
        " 1.3871292209156378,\n",
        " 1.3871225631393822,\n",
        " 1.3871257958067646,\n",
        " 1.387122417165639,\n",
        " 1.3871196723501327,\n",
        " 1.3871310947884758,\n",
        " 1.3871232857043891,\n",
        " 1.3871234383363122,\n",
        " 1.3871252779952354,\n",
        " 1.3871227204070438,\n",
        " 1.3871212933598613,\n",
        " 1.3871233468177788,\n",
        " 1.3871291561979617,\n",
        " 1.3871243371121715,\n",
        " 0.9221580954100882,\n",
        " 1.3871239031767257,\n",
        " 1.387124436956192,\n",
        " 1.387128331749461,\n",
        " 1.3871252811220054,\n",
        " 1.3871249066427833,\n",
        " 1.3871215280038234,\n",
        " 1.3871187831900766,\n",
        " 1.3871302056210977,\n",
        " 1.387122396542017,\n",
        " 1.3871225491738421,\n",
        " 1.387124388831586,\n",
        " 1.387121831245034,\n",
        " 1.3871204041987661,\n",
        " 1.3871224576553673,\n",
        " 1.3871282670318266,\n",
        " 1.3871234479491252,\n",
        " 0.9221575042958822,\n",
        " 1.3871257772525776,\n",
        " 1.3871263110327647,\n",
        " 1.387130205831296,\n",
        " 1.3871271551997189,\n",
        " 1.3871235480503132,\n",
        " 1.3871234020764662,\n",
        " 1.3871206572590111,\n",
        " 1.3871320797054645,\n",
        " 1.3871242706158333,\n",
        " 1.3871244232478646,\n",
        " 1.387126262908094,\n",
        " 1.3871237053180865,\n",
        " 1.3871222782698907,\n",
        " 1.387124331729266,\n",
        " 1.3871301411135741,\n",
        " 1.387125322024362,\n",
        " 0.9221587501781761,\n",
        " 1.3871220471537482,\n",
        " 1.3871225809325,\n",
        " 1.387126475720558,\n",
        " 1.3871234250971842,\n",
        " 1.3871198179574784,\n",
        " 1.387123050618463,\n",
        " 1.3871169271739499,\n",
        " 1.3871283495896873,\n",
        " 1.3871205405210554,\n",
        " 1.3871206931526763,\n",
        " 1.3871225328079588,\n",
        " 1.3871199752248289,\n",
        " 1.3871185481804704,\n",
        " 1.387120601634324,\n",
        " 1.38712641100301,\n",
        " 1.3871215919267568,\n",
        " 0.9221562704151071,\n",
        " 1.3871239211565953,\n",
        " 1.3871244549360684,\n",
        " 1.3871283497293878,\n",
        " 1.3871252991018928,\n",
        " 1.387121691957314,\n",
        " 1.3871249246226658,\n",
        " 1.3871215459836623,\n",
        " 1.387130223601049,\n",
        " 1.387122414521867,\n",
        " 1.387122567153694,\n",
        " 1.3871244068114619,\n",
        " 1.3871218492248767,\n",
        " 1.3871204221785904,\n",
        " 1.387122475635218,\n",
        " 1.3871282850117526,\n",
        " 1.3871234659289888,\n",
        " 0.9221575162488675,\n",
        " 1.3871217088331447,\n",
        " 1.3871222426117662,\n",
        " 1.3871261373988741,\n",
        " 1.3871230867762445,\n",
        " 1.3871194796374187,\n",
        " 1.3871227122976149,\n",
        " 1.3871193336639998,\n",
        " 1.387116588854595,\n",
        " 1.3871202022008193,\n",
        " 1.387120354832403,\n",
        " 1.3871221944872367,\n",
        " 1.3871196369047305,\n",
        " 1.3871182098607202,\n",
        " 1.387120263314073,\n",
        " 1.387126072681342,\n",
        " 1.3871212536062643,\n",
        " 0.9221560455001714,\n",
        " 1.3871220385412737,\n",
        " 1.3871225723200222,\n",
        " 1.3871264671080559,\n",
        " 1.387123416484701,\n",
        " 1.3871198093450177,\n",
        " 1.3871230420059824,\n",
        " 1.3871196633715643,\n",
        " 1.387116918561507,\n",
        " 1.3871283409771737,\n",
        " 1.3871206845402102,\n",
        " 1.3871225241954812,\n",
        " 1.387119966612367,\n",
        " 1.3871185395680177,\n",
        " 1.3871205930218584,\n",
        " 1.3871264023905083,\n",
        " 1.3871215833142851,\n",
        " 0.9221562646895493,\n",
        " 1.3871248625308261,\n",
        " 1.3871253963106613,\n",
        " 1.3871292911066242,\n",
        " 1.3871262404770588,\n",
        " 1.387122633330032,\n",
        " 1.3871258659975778,\n",
        " 1.387122487356281,\n",
        " 1.387119742540636,\n",
        " 1.387131164979557,\n",
        " 1.3871233558950753,\n",
        " 1.3871253481860224,\n",
        " 1.3871227905977013,\n",
        " 1.3871213635504467,\n",
        " 1.3871234170084679,\n",
        " 1.387129226388945,\n",
        " 1.3871244073029108,\n",
        " 0.9221581420727822,\n",
        " 1.3871247885980589,\n",
        " 1.3871253223778657,\n",
        " 1.3871292171736207,\n",
        " 1.387126166544218,\n",
        " 1.3871225593973833,\n",
        " 1.3871257920647568,\n",
        " 1.3871224134236404,\n",
        " 1.3871196686081415,\n",
        " 1.3871310910464536,\n",
        " 1.3871232819623882,\n",
        " 1.3871234345943109,\n",
        " 1.3871227166650444,\n",
        " 1.3871212896178657,\n",
        " 1.3871233430757777,\n",
        " 1.387129152455945,\n",
        " 1.3871243333701675,\n",
        " 0.9221580929224099,\n",
        " 1.3871230992096681,\n",
        " 1.3871236329888248,\n",
        " 1.3871275277798365,\n",
        " 1.387124477154149,\n",
        " 1.3871208700117077,\n",
        " 1.3871241026751442,\n",
        " 1.3871207240381425,\n",
        " 1.3871179792259867,\n",
        " 1.3871294016503872,\n",
        " 1.3871215925758327,\n",
        " 1.3871217452075693,\n",
        " 1.387123584864247,\n",
        " 1.3871196002337365,\n",
        " 1.3871216536891475,\n",
        " 1.3871274630622397,\n",
        " 1.3871226439823314,\n",
        " 0.9221569698200118,\n",
        " 1.3871234856683494,\n",
        " 1.3871240194476548,\n",
        " 1.3871279142397517,\n",
        " 1.3871248636132143,\n",
        " 1.3871212564697677,\n",
        " 1.387124489134105,\n",
        " 1.387121110496162,\n",
        " 1.3871183656832413,\n",
        " 1.3871297881108244,\n",
        " 1.387121979034094,\n",
        " 1.3871221316658733,\n",
        " 1.3871239713230634,\n",
        " 1.3871214137372812,\n",
        " 1.387122040147426,\n",
        " 1.3871278495221366,\n",
        " 1.387123030440886,\n",
        " 0.922157226737056,\n",
        " 1.3871231009641074,\n",
        " 1.3871236347432647,\n",
        " 1.3871275295342815,\n",
        " 1.3871244789085901,\n",
        " 1.387120871766144,\n",
        " 1.3871241044295846,\n",
        " 1.3871207257925788,\n",
        " 1.3871179809804193,\n",
        " 1.3871294034048345,\n",
        " 1.38712159433027,\n",
        " 1.3871217469620067,\n",
        " 1.3871235866186868,\n",
        " 1.3871210290336138,\n",
        " 1.3871196019881715,\n",
        " 1.3871274648166845,\n",
        " 1.38712264573677,\n",
        " 0.92215697098636,\n",
        " 1.3871227292532693,\n",
        " 1.3871232630322836,\n",
        " 1.3871271578222566,\n",
        " 1.3871241071973828,\n",
        " 1.3871205000559033,\n",
        " 1.3871237327184776,\n",
        " 1.387120354082377,\n",
        " 1.3871176092709532,\n",
        " 1.3871290316923075,\n",
        " 1.3871212226198355,\n",
        " 1.3871213752515315,\n",
        " 1.3871232149077186,\n",
        " 1.387120657323331,\n",
        " 1.3871192302782709,\n",
        " 1.3871212837331341,\n",
        " 1.387122274026054,\n",
        " 0.9221567238736558,\n",
        " 1.3871242113680167,\n",
        " 1.3871247451476012,\n",
        " 1.3871286399417357,\n",
        " 1.3871255893136023,\n",
        " 1.3871219821682688,\n",
        " 1.3871252148342972,\n",
        " 1.3871218361945865,\n",
        " 1.38711909138023,\n",
        " 1.3871305138137888,\n",
        " 1.387122704732973,\n",
        " 1.387122857364832,\n",
        " 1.3871246970229847,\n",
        " 1.3871221394358644,\n",
        " 1.3871207123892797,\n",
        " 1.387122765846337,\n",
        " 1.387128575224087,\n",
        " 0.9221577091809042,\n",
        " 2.1370629088011537,\n",
        " 2.1370637311648197,\n",
        " 2.137069731651304,\n",
        " 2.1370650317230795,\n",
        " 2.137059474400645,\n",
        " 2.1370644547842392,\n",
        " 2.1370592495073444,\n",
        " 2.1370550207289085,\n",
        " 2.1370726186187636,\n",
        " 2.1370605876147435,\n",
        " 2.137060822765916,\n",
        " 2.1370636570219768,\n",
        " 2.137059716693831,\n",
        " 2.1370575181248057,\n",
        " 2.137060681768607,\n",
        " 2.137069631944525,\n",
        " 2.137062207457879,\n",
        " 1.3871235936594912,\n",
        " 1.3871274884503926,\n",
        " 1.3871244378247916,\n",
        " 1.3871208306824523,\n",
        " 1.3871240633457973,\n",
        " 1.3871206847088915,\n",
        " 1.3871179398968132,\n",
        " 1.3871293623208902,\n",
        " 1.3871215532465568,\n",
        " 1.3871217058782892,\n",
        " 1.3871235455349147,\n",
        " 1.3871209879499176,\n",
        " 1.3871195609045173,\n",
        " 1.3871216143598701,\n",
        " 1.3871274237327975,\n",
        " 1.3871226046530258,\n",
        " 0.922156943673951]"
       ]
      }
     ],
     "prompt_number": 9
    },
    {
     "cell_type": "code",
     "collapsed": false,
     "input": [
      "away_theta.value"
     ],
     "language": "python",
     "metadata": {},
     "outputs": [
      {
       "metadata": {},
       "output_type": "pyout",
       "prompt_number": 10,
       "text": [
        "[0.9986716602351272,\n",
        " 0.998671815541848,\n",
        " 0.998672907535002,\n",
        " 0.9986722673738997,\n",
        " 0.9986736166315802,\n",
        " 0.9986709311135477,\n",
        " 0.9986722803186677,\n",
        " 0.9986706875366014,\n",
        " 0.9986709249129195,\n",
        " 0.9986729580694694,\n",
        " 0.998672904840912,\n",
        " 0.9986716885506219,\n",
        " 0.9986719667850079,\n",
        " 0.9986716898137462,\n",
        " 0.9986714221972018,\n",
        " 0.9986724892589774,\n",
        " 1.5385975656287134,\n",
        " 0.9986744643236117,\n",
        " 0.9986740301392987,\n",
        " 0.9986757116269888,\n",
        " 0.998675071464089,\n",
        " 0.998676420725558,\n",
        " 0.9986737351999849,\n",
        " 0.9986750844088933,\n",
        " 0.9986734916223549,\n",
        " 0.9986737289993394,\n",
        " 0.9986757621615981,\n",
        " 0.9986757089328911,\n",
        " 0.998674492639186,\n",
        " 0.9986747708743532,\n",
        " 0.9986744939023138,\n",
        " 0.998674226285018,\n",
        " 0.9986752933497898,\n",
        " 1.5386018857309933,\n",
        " 0.9986722679992557,\n",
        " 0.9986718338158974,\n",
        " 0.9986724233060711,\n",
        " 0.9986728751383976,\n",
        " 0.9986742243968993,\n",
        " 0.9986715388772325,\n",
        " 0.9986728880831736,\n",
        " 0.998671295300138,\n",
        " 0.9986715326766005,\n",
        " 0.9986735658343878,\n",
        " 0.998673512605798,\n",
        " 0.9986722963147676,\n",
        " 0.998672574549323,\n",
        " 0.9986722975778927,\n",
        " 0.9986720299611855,\n",
        " 0.9986730970236105,\n",
        " 1.5385985019769106,\n",
        " 0.9986696710058478,\n",
        " 0.9986692368236186,\n",
        " 0.9986698263122593,\n",
        " 0.9986709183032382,\n",
        " 0.9986716273984039,\n",
        " 0.9986689418857206,\n",
        " 0.9986702910881532,\n",
        " 0.9986686983092595,\n",
        " 0.9986689356851048,\n",
        " 0.998670968837605,\n",
        " 0.9986709156091534,\n",
        " 0.9986696993212861,\n",
        " 0.9986699775551179,\n",
        " 0.998669700584408,\n",
        " 0.9986694329683966,\n",
        " 0.9986705000280468,\n",
        " 1.5385945009344315,\n",
        " 0.9986719983898562,\n",
        " 0.9986715642066152,\n",
        " 0.9986721536966296,\n",
        " 0.9986732456901534,\n",
        " 0.9986726055288343,\n",
        " 0.9986712692680297,\n",
        " 0.9986726184736067,\n",
        " 0.9986710256910011,\n",
        " 0.9986712630673995,\n",
        " 0.998673296224638,\n",
        " 0.9986732429960624,\n",
        " 0.9986720267053605,\n",
        " 0.9986723049398407,\n",
        " 0.9986720279684852,\n",
        " 0.9986717603518502,\n",
        " 0.9986728274139872,\n",
        " 1.5385980866047897,\n",
        " 0.9986695659109167,\n",
        " 0.9986691317287332,\n",
        " 0.9986697212173119,\n",
        " 0.9986708132081757,\n",
        " 0.998670173048416,\n",
        " 0.998671522303267,\n",
        " 0.9986701859931568,\n",
        " 0.9986685932144308,\n",
        " 0.998668830590251,\n",
        " 0.9986708637425372,\n",
        " 0.9986708105140913,\n",
        " 0.998669594226352,\n",
        " 0.9986698724601545,\n",
        " 0.9986695954894736,\n",
        " 0.9986693278734906,\n",
        " 0.9986703949330284,\n",
        " 1.5385943390205497,\n",
        " 0.9986675897596583,\n",
        " 0.9986671555783341,\n",
        " 0.9986677450657463,\n",
        " 0.9986688370544493,\n",
        " 0.9986681968959562,\n",
        " 0.9986695461481373,\n",
        " 0.9986668606410507,\n",
        " 0.9986666170650972,\n",
        " 0.9986668544404478,\n",
        " 0.9986688875887109,\n",
        " 0.9986688343603702,\n",
        " 0.9986676180750377,\n",
        " 0.9986678963082896,\n",
        " 0.9986676193381568,\n",
        " 0.9986673517227033,\n",
        " 0.9986684187801297,\n",
        " 1.5385912944748432,\n",
        " 0.9986758134329264,\n",
        " 0.9986753792480269,\n",
        " 0.9986759687402933,\n",
        " 0.9986770607379885,\n",
        " 0.9986764205742239,\n",
        " 0.9986777698375155,\n",
        " 0.9986750843083148,\n",
        " 0.9986764335190458,\n",
        " 0.9986750781076608,\n",
        " 0.9986771112726661,\n",
        " 0.9986770580438873,\n",
        " 0.998675841748539,\n",
        " 0.998676119984082,\n",
        " 0.9986758430116686,\n",
        " 0.9986755753940112,\n",
        " 0.9986766424602245,\n",
        " 1.5386039642282514,\n",
        " 0.9986701912221407,\n",
        " 0.9986697570396854,\n",
        " 0.9986703465286332,\n",
        " 0.9986714385201808,\n",
        " 0.9986707983600203,\n",
        " 0.998672147615716,\n",
        " 0.9986694621016338,\n",
        " 0.9986708113047692,\n",
        " 0.9986692185250459,\n",
        " 0.998671489054574,\n",
        " 0.9986714358260947,\n",
        " 0.9986702195375938,\n",
        " 0.9986704977715706,\n",
        " 0.9986702208007163,\n",
        " 0.9986699531845656,\n",
        " 0.9986710202447716,\n",
        " 1.5385953024025756,\n",
        " 0.9986703011106801,\n",
        " 0.9986698669281769,\n",
        " 0.9986704564171897,\n",
        " 0.9986715484088574,\n",
        " 0.9986709082486264,\n",
        " 0.9986722575044705,\n",
        " 0.9986695719900929,\n",
        " 0.9986709211933767,\n",
        " 0.9986693284134781,\n",
        " 0.9986695657894731,\n",
        " 0.998671545714771,\n",
        " 0.9986703294261363,\n",
        " 0.9986706076601436,\n",
        " 0.9986703306892588,\n",
        " 0.9986700630730787,\n",
        " 0.9986711301334021,\n",
        " 1.5385954717017014,\n",
        " 0.998671625587421,\n",
        " 0.998671191404342,\n",
        " 0.9986717808941366,\n",
        " 0.9986728728872526,\n",
        " 0.9986722327261724,\n",
        " 0.9986735819838062,\n",
        " 0.9986708964658668,\n",
        " 0.99867224567094,\n",
        " 0.998670652888929,\n",
        " 0.9986708902652388,\n",
        " 0.9986729234217182,\n",
        " 0.9986716539029148,\n",
        " 0.9986719321372911,\n",
        " 0.998671655166039,\n",
        " 0.9986713875495039,\n",
        " 0.9986724546112425,\n",
        " 1.5385975122489306,\n",
        " 0.9986697842319231,\n",
        " 0.9986693500496447,\n",
        " 0.9986699395383523,\n",
        " 0.9986710315294549,\n",
        " 0.9986703913695552,\n",
        " 0.998671740624701,\n",
        " 0.9986690551117132,\n",
        " 0.9986704043142988,\n",
        " 0.9986688115352246,\n",
        " 0.9986690489110968,\n",
        " 0.9986710820638274,\n",
        " 0.99867102883537,\n",
        " 0.9986700907812279,\n",
        " 0.9986698138104866,\n",
        " 0.9986695461944449,\n",
        " 0.9986706132542161,\n",
        " 1.5385946753755124,\n",
        " 0.9986687568182121,\n",
        " 0.9986683226363804,\n",
        " 0.9986689121244815,\n",
        " 0.9986700041144606,\n",
        " 0.9986693639552194,\n",
        " 0.9986707132089773,\n",
        " 0.9986680276987523,\n",
        " 0.9986693768999498,\n",
        " 0.9986677841225142,\n",
        " 0.9986680214981422,\n",
        " 0.9986700546487812,\n",
        " 0.9986700014203784,\n",
        " 0.9986687851336244,\n",
        " 0.9986687863967451,\n",
        " 0.9986685187809788,\n",
        " 0.9986695858396522,\n",
        " 1.5385930924966769,\n",
        " 0.9986702352212006,\n",
        " 0.9986698010387262,\n",
        " 0.9986703905276999,\n",
        " 0.9986714825192956,\n",
        " 0.9986708423591069,\n",
        " 0.998672191614862,\n",
        " 0.9986695061006615,\n",
        " 0.9986708553038564,\n",
        " 0.9986692625240629,\n",
        " 0.9986694999000422,\n",
        " 0.998671533053691,\n",
        " 0.9986714798252094,\n",
        " 0.9986702635366549,\n",
        " 0.998670541770644,\n",
        " 0.9986699971836149,\n",
        " 0.998671064243868,\n",
        " 1.538595370189466,\n",
        " 0.9986744177296178,\n",
        " 0.9986739835453251,\n",
        " 0.9986745730367677,\n",
        " 0.9986756650329367,\n",
        " 0.9986750248700669,\n",
        " 0.9986763741314728,\n",
        " 0.9986736886060251,\n",
        " 0.9986750378148705,\n",
        " 0.9986734450284064,\n",
        " 0.9986736824053799,\n",
        " 0.9986757155675438,\n",
        " 0.9986756623388393,\n",
        " 0.9986744460451908,\n",
        " 0.9986747242803451,\n",
        " 0.9986744473083186,\n",
        " 0.9986752467557573,\n",
        " 1.5386018139462332,\n",
        " 0.9986709481913458,\n",
        " 0.9986705140085614,\n",
        " 0.9986711034979561,\n",
        " 0.9986721954903314,\n",
        " 0.9986715553296855,\n",
        " 0.998672904586404,\n",
        " 0.9986702190702862,\n",
        " 0.9986715682744443,\n",
        " 0.9986699754935137,\n",
        " 0.9986702128696625,\n",
        " 0.9986722460247628,\n",
        " 0.9986721927962433,\n",
        " 0.9986709765068204,\n",
        " 0.998671254741008,\n",
        " 0.9986709777699438,\n",
        " 0.9986707101535902,\n",
        " 1.5385964686226883,\n",
        " 0.6639148884394824,\n",
        " 0.6639145997954448,\n",
        " 0.6639149916870747,\n",
        " 0.6639157176419023,\n",
        " 0.6639152920641036,\n",
        " 0.6639161890478652,\n",
        " 0.6639144037209395,\n",
        " 0.663915300669759,\n",
        " 0.6639142417914811,\n",
        " 0.6639143995987745,\n",
        " 0.6639157512371134,\n",
        " 0.6639157158508767,\n",
        " 0.6639149072635658,\n",
        " 0.6639150922332197,\n",
        " 0.6639149081032882,\n",
        " 0.6639147301923539,\n",
        " 0.6639154395728519,\n",
        " 0.9986708417532785,\n",
        " 0.9986714312428665,\n",
        " 0.9986725232356002,\n",
        " 0.9986718830747442,\n",
        " 0.9986732323319055,\n",
        " 0.9986705468149064,\n",
        " 0.9986718960195072,\n",
        " 0.998670303238054,\n",
        " 0.9986705406142806,\n",
        " 0.9986725737700483,\n",
        " 0.9986725205415112,\n",
        " 0.9986713042516892,\n",
        " 0.9986715824859681,\n",
        " 0.998671305514813,\n",
        " 0.9986710378983716,\n",
        " 0.9986721049597367,\n",
        " 1.5385969735608607]"
       ]
      }
     ],
     "prompt_number": 10
    },
    {
     "cell_type": "markdown",
     "metadata": {},
     "source": [
      "Let's see if we can recreate "
     ]
    },
    {
     "cell_type": "code",
     "collapsed": false,
     "input": [
      "atts.value"
     ],
     "language": "python",
     "metadata": {},
     "outputs": [
      {
       "metadata": {},
       "output_type": "pyout",
       "prompt_number": 11,
       "text": [
        "array([ 0.02268182,  0.02268221,  0.02268502,  0.02268282,  0.02268022,\n",
        "        0.02268255,  0.02268011,  0.02267813,  0.02268637,  0.02268074,\n",
        "        0.02268085,  0.02268217,  0.02268033,  0.0226793 ,  0.02268078,\n",
        "        0.02268497,  0.0226815 , -0.38558989])"
       ]
      }
     ],
     "prompt_number": 11
    },
    {
     "cell_type": "code",
     "collapsed": false,
     "input": [
      "defs.value"
     ],
     "language": "python",
     "metadata": {},
     "outputs": [
      {
       "metadata": {},
       "output_type": "pyout",
       "prompt_number": 12,
       "text": [
        "array([-0.02401143, -0.02401187, -0.02401128, -0.02401018, -0.02401082,\n",
        "       -0.02400947, -0.02401216, -0.02401081, -0.02401241, -0.02401217,\n",
        "       -0.02401013, -0.02401019, -0.0240114 , -0.02401112, -0.0240114 ,\n",
        "       -0.02401167, -0.0240106 ,  0.40818912])"
       ]
      }
     ],
     "prompt_number": 12
    },
    {
     "cell_type": "code",
     "collapsed": false,
     "input": [
      "avg_att = atts.stats()['mean']\n",
      "avg_def = defs.stats()['mean']\n",
      "team_names = teams.team.values\n",
      "\n",
      "fig, ax = plt.subplots()\n",
      "ax.plot(avg_att, avg_def, 'o')\n",
      "for label, x, y in zip(team_names, avg_att, avg_def):\n",
      "    ax.annotate(label, xy=(x,y), xytext = (-5,5), textcoords = 'offset points')\n",
      "ax.set_title('Attack vs Defense avg effect: 91-92 Serie A')\n",
      "ax.set_xlabel('Avg attack effect')\n",
      "ax.set_ylabel('Avg defense effect')"
     ],
     "language": "python",
     "metadata": {},
     "outputs": [
      {
       "metadata": {},
       "output_type": "pyout",
       "prompt_number": 13,
       "text": [
        "<matplotlib.text.Text at 0x109a03fd0>"
       ]
      },
      {
       "metadata": {},
       "output_type": "display_data",
       "png": "[encoded data removed]",
       "text": [
        "<matplotlib.figure.Figure at 0x109813cd0>"
       ]
      }
     ],
     "prompt_number": 13
    },
    {
     "cell_type": "code",
     "collapsed": false,
     "input": [
      "pymc.Matplot.plot(home)"
     ],
     "language": "python",
     "metadata": {},
     "outputs": [
      {
       "output_type": "stream",
       "stream": "stdout",
       "text": [
        "Plotting home\n"
       ]
      },
      {
       "metadata": {},
       "output_type": "display_data",
       "png": "[encoded data removed]",
       "text": [
        "<matplotlib.figure.Figure at 0x10cbcbad0>"
       ]
      }
     ],
     "prompt_number": 20
    },
    {
     "cell_type": "code",
     "collapsed": false,
     "input": [
      "pymc.Matplot.plot(mu_att)"
     ],
     "language": "python",
     "metadata": {},
     "outputs": [
      {
       "output_type": "stream",
       "stream": "stdout",
       "text": [
        "Plotting mu_att\n"
       ]
      },
      {
       "metadata": {},
       "output_type": "display_data",
       "png": "[encoded data removed]",
       "text": [
        "<matplotlib.figure.Figure at 0x10c443a90>"
       ]
      }
     ],
     "prompt_number": 15
    },
    {
     "cell_type": "code",
     "collapsed": false,
     "input": [
      "pymc.Matplot.plot(mu_def)"
     ],
     "language": "python",
     "metadata": {},
     "outputs": [
      {
       "output_type": "stream",
       "stream": "stdout",
       "text": [
        "Plotting mu_def\n"
       ]
      },
      {
       "metadata": {},
       "output_type": "display_data",
       "png": "[encoded data removed]",
       "text": [
        "<matplotlib.figure.Figure at 0x10ca5ca90>"
       ]
      }
     ],
     "prompt_number": 16
    },
    {
     "cell_type": "code",
     "collapsed": false,
     "input": [
      "pymc.Matplot.plot(tau_att)"
     ],
     "language": "python",
     "metadata": {},
     "outputs": [
      {
       "output_type": "stream",
       "stream": "stdout",
       "text": [
        "Plotting tau_att\n"
       ]
      },
      {
       "metadata": {},
       "output_type": "display_data",
       "png": "[encoded data removed]",
       "text": [
        "<matplotlib.figure.Figure at 0x10cb95dd0>"
       ]
      }
     ],
     "prompt_number": 17
    },
    {
     "cell_type": "code",
     "collapsed": false,
     "input": [
      "pymc.Matplot.plot(tau_def)"
     ],
     "language": "python",
     "metadata": {},
     "outputs": [
      {
       "output_type": "stream",
       "stream": "stdout",
       "text": [
        "Plotting tau_def\n"
       ]
      },
      {
       "metadata": {},
       "output_type": "display_data",
       "png": "[encoded data removed]",
       "text": [
        "<matplotlib.figure.Figure at 0x10cc50390>"
       ]
      }
     ],
     "prompt_number": 18
    },
    {
     "cell_type": "code",
     "collapsed": false,
     "input": [
      "pymc.Matplot.plot(intercept)"
     ],
     "language": "python",
     "metadata": {},
     "outputs": [
      {
       "ename": "NameError",
       "evalue": "name 'intercept' is not defined",
       "output_type": "pyerr",
       "traceback": [
        "\u001b[0;31m---------------------------------------------------------------------------\u001b[0m\n\u001b[0;31mNameError\u001b[0m                                 Traceback (most recent call last)",
        "\u001b[0;32m<ipython-input-19-e7119cdc7f94>\u001b[0m in \u001b[0;36m<module>\u001b[0;34m()\u001b[0m\n\u001b[0;32m----> 1\u001b[0;31m \u001b[0mpymc\u001b[0m\u001b[0;34m.\u001b[0m\u001b[0mMatplot\u001b[0m\u001b[0;34m.\u001b[0m\u001b[0mplot\u001b[0m\u001b[0;34m(\u001b[0m\u001b[0mintercept\u001b[0m\u001b[0;34m)\u001b[0m\u001b[0;34m\u001b[0m\u001b[0m\n\u001b[0m",
        "\u001b[0;31mNameError\u001b[0m: name 'intercept' is not defined"
       ]
      }
     ],
     "prompt_number": 19
    },
    {
     "cell_type": "code",
     "collapsed": false,
     "input": [
      "pymc.Matplot.plot(atts)"
     ],
     "language": "python",
     "metadata": {},
     "outputs": []
    },
    {
     "cell_type": "code",
     "collapsed": false,
     "input": [
      "teams"
     ],
     "language": "python",
     "metadata": {},
     "outputs": []
    },
    {
     "cell_type": "code",
     "collapsed": false,
     "input": [
      "foo = pd.DataFrame(atts_star.trace()[:, 0])\n",
      "foo.head()"
     ],
     "language": "python",
     "metadata": {},
     "outputs": []
    },
    {
     "cell_type": "code",
     "collapsed": false,
     "input": [
      "foo = pd.DataFrame(tau_att.trace())\n",
      "foo.tail()"
     ],
     "language": "python",
     "metadata": {},
     "outputs": []
    },
    {
     "cell_type": "code",
     "collapsed": false,
     "input": [
      "foo = pd.DataFrame(home_theta.trace())"
     ],
     "language": "python",
     "metadata": {},
     "outputs": []
    },
    {
     "cell_type": "code",
     "collapsed": false,
     "input": [
      "foo[0].hist()"
     ],
     "language": "python",
     "metadata": {},
     "outputs": []
    },
    {
     "cell_type": "code",
     "collapsed": false,
     "input": [
      "foo.head()"
     ],
     "language": "python",
     "metadata": {},
     "outputs": []
    },
    {
     "cell_type": "code",
     "collapsed": false,
     "input": [
      "num_games"
     ],
     "language": "python",
     "metadata": {},
     "outputs": []
    },
    {
     "cell_type": "code",
     "collapsed": false,
     "input": [
      "foo.hist()"
     ],
     "language": "python",
     "metadata": {},
     "outputs": []
    },
    {
     "cell_type": "code",
     "collapsed": false,
     "input": [
      "STOP HERE."
     ],
     "language": "python",
     "metadata": {},
     "outputs": []
    },
    {
     "cell_type": "markdown",
     "metadata": {},
     "source": [
      "More complicated model"
     ]
    },
    {
     "cell_type": "code",
     "collapsed": false,
     "input": [
      "# hyper parameters\n",
      "home = pymc.Normal('home', 0, .0001, value=0)\n",
      "\n",
      "# the bottom of the table\n",
      "mu_1_att = pymc.TruncatedNormal('mu_1_att', 0, .001, a=-3, b=0)\n",
      "mu_1_def = pymc.TruncatedNormal('mu_1_def', 0, .001, a=0, b=3)\n",
      "# top of the table\n",
      "mu_3_att = pymc.TruncatedNormal('mu_3_att', 0, .0001, a=0, b=3)\n",
      "mu_3_def = pymc.TruncatedNormal('mu_3_def', 0, .0001, a=-3, b=0)\n",
      "# middle\n",
      "mu_2_att = pymc.Normal('mu_2_att', 0, .0001, value=0)\n",
      "mu_2_def = pymc.Normal('mu_2_def', 0, .0001, value=0)\n",
      "\n",
      "tau_1_att = pymc.Gamma('tau_1_att', .1, .1)\n",
      "tau_1_def = pymc.Gamma('tau_1_def', .1, .1)\n",
      "tau_2_att = pymc.Gamma('tau_2_att', .1, .1)\n",
      "tau_2_def = pymc.Gamma('tau_2_def', .1, .1)\n",
      "tau_3_att = pymc.Gamma('tau_3_att', .1, .1)\n",
      "tau_3_def = pymc.Gamma('tau_3_def', .1, .1)\n",
      "\n",
      "\n",
      "#team-specific latent variables\n",
      "grp_att = pymc.Dirichlet(\"grp_att\", theta=[1,1,1]) \n",
      "grp_def = pymc.Dirichlet(\"grp_def\", theta=[1,1,1])\n",
      "\n",
      "atts = pymc.Normal(\"atts\", mu=grp_att, tau=tau_att, size=num_teams, value=np.zeros(num_teams))\n",
      "defs = pymc.Normal(\"defs\", mu=grp_def, tau=tau_def, size=num_teams, value=np.zeros(num_teams))"
     ],
     "language": "python",
     "metadata": {},
     "outputs": []
    }
   ],
   "metadata": {}
  }
 ]
}