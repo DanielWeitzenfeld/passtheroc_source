{
 "metadata": {
  "name": "",
  "signature": "sha256:34688427c4db90e71070a38b00914f92fa7e0ba99288488231f6af5714daa7cb"
 },
 "nbformat": 3,
 "nbformat_minor": 0,
 "worksheets": [
  {
   "cells": [
    {
     "cell_type": "markdown",
     "metadata": {},
     "source": [
      "The aesthetics of this blog make look familiar.  That's because I shamelessly ripped off two python- and data- focused blogs that I read: [Thomas Wiecki's](http://twiecki.github.io) and [Jake VanderPlas's](https://jakevdp.github.io).  Both blogs use [pelican](http://docs.getpelican.com/en/3.4.0/) with an aesthetically pleasing, easy-to-read [octopress theme](https://github.com/duilio/pelican-octopress-theme).  As I looked into how Jake makes his blog, and saw that [python4oceanographers](http://ocefpaf.github.io/python4oceanographers/) also used the same theme, I figured three makes a crowd that I could slinkily join. \n",
      "I won't do a soup-to-nuts how-to here because that's been done, and but I will provide three tips that would have saved me some time.\n",
      "\n",
      "\n",
      "### One Repo or Two\n",
      "One thing I puzzled over was whether to put everything in a single repo, or to put the source in one repo and the output in another.  By 'source,' I mean the pelican code and the raw content that pelican converts into static html, and by 'output' I mean the static html. I ended up using two repos ([passtheroc](https://github.com/DanielWeitzenfeld/passtheroc/tree/gh-pages) and [passtheroc_source](https://github.com/DanielWeitzenfeld/passtheroc_source)) and I'm happy that I did.  \n",
      "When I want to see what preview what the site will look like, I run pelican without the `-o` option:\n",
      "\n",
      "    cd /Users/weitzenfeld/PycharmProjects/passtheroc_source\n",
      "    pelican -s pelicanconf.py\n",
      "    cd output\n",
      "    python -m SimpleHTTPServer 8080\n",
      "\n",
      "Pelican defaults to writing the html to a folder in the current directory called 'output.' (It was this default setting that initially confused me about whether to use one repo or two). So the above commands tell pelican to generate the html (using the settings in `pelicanconf.py`) and  put in a folder called output.  Then I switch the output folder and run a simple server, enabling me to preview my blog at http://localhost:8080.\n",
      "\n",
      "When I want to actually publish the site, I tell pelican to write the content to my 'output' repo, and to use the publish settings:\n",
      "\n",
      "    cd /Users/weitzenfeld/PycharmProjects/passtheroc_source\n",
      "    pelican -o /Users/weitzenfeld/PycharmProjects/passtheroc -s publishconf.py\n",
      "    cd /Users/weitzenfeld/PycharmProjects/passtheroc\n",
      "    git add *\n",
      "    git commit -m 'publishing the site'\n",
      "    git push\n",
      "    \n",
      "\n",
      "### Githup user vs. project page\n",
      "\n",
      "If you look at [passtheroc](https://github.com/DanielWeitzenfeld/passtheroc/tree/gh-pages), you'll notice that all the action is on the gh-pages branch.  That's because I'm using a github project page, as described [here](https://help.github.com/articles/user-organization-and-project-pages/).  Note that unless you want to get fancy, your repo name will be in your site url, so don't use 'freezing-octo-meme' or one of github's other suggestions for a repo name, unless that's the name of your blog.\n",
      "\n",
      "### _nb_header.html doesn't exist\n",
      "\n",
      "I hit a snag when trying to enable the IPython plugin.  As noted in the [liquid tags readme](https://github.com/jakevdp/pelican-plugins/tree/liquid_tags/liquid_tags), you have to add this line to your pelicanconf.py:\n",
      "\n",
      "`EXTRA_HEADER = open('_nb_header.html').read().decode('utf-8')`\n",
      "\n",
      "But when I ran `pelican content` or `make html`, I kept getting an error about \\_nb_header.html not existing.  The solution for me was to tell pelican to ignore the cache:\n",
      "\n",
      "`pelican content --ignore-cache`\n",
      "\n",
      "### No Syntax Highlighting in IPython Code Cells\n",
      "Make [this](https://github.com/jfosorio/pelican-plugins/compare/getpelican:master...master) change\n",
      "and then run `pelican content --ignore-cache` again.\n"
     ]
    }
   ],
   "metadata": {}
  }
 ]
}